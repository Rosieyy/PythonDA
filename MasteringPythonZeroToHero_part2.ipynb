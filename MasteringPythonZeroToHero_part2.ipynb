{
 "cells": [
  {
   "cell_type": "markdown",
   "id": "9e901acb-8d16-4cc8-93f2-60923c5beec3",
   "metadata": {},
   "source": [
    "# Data Structures"
   ]
  },
  {
   "cell_type": "code",
   "execution_count": 1,
   "id": "d692ec6e-3299-4f34-9776-5918e2566580",
   "metadata": {},
   "outputs": [],
   "source": [
    "L = [3,4.9,\"list\",3]\n",
    "T = (3,4.9,\"list\",3)\n",
    "S = {3,4.9,\"list\",3}\n",
    "D = {12:\"onetwo\",\"he\":23, \"she\":\"her\",45:90}"
   ]
  },
  {
   "cell_type": "code",
   "execution_count": 5,
   "id": "7918f438-ae36-44ee-b53a-d286d4f55048",
   "metadata": {},
   "outputs": [
    {
     "name": "stdout",
     "output_type": "stream",
     "text": [
      "The type of L is: <class 'list'>\n",
      "The type of T is: <class 'tuple'>\n",
      "The type of S is: <class 'set'>\n",
      "The type of D is: <class 'dict'>\n"
     ]
    }
   ],
   "source": [
    "print(\"The type of L is:\", type(L))\n",
    "print(\"The type of T is:\", type(T))\n",
    "print(\"The type of S is:\", type(S))\n",
    "print(\"The type of D is:\", type(D))"
   ]
  },
  {
   "cell_type": "code",
   "execution_count": 13,
   "id": "278af049-f08a-4cdb-a09c-0f3a04dc1fb3",
   "metadata": {},
   "outputs": [
    {
     "name": "stdout",
     "output_type": "stream",
     "text": [
      "4.9\n",
      "4.9\n",
      "True\n",
      "onetwo\n",
      "23\n",
      "{'list', 3, 4.9}\n"
     ]
    }
   ],
   "source": [
    "print(L[1])\n",
    "print(T[1])\n",
    "print(3 in S)\n",
    "print(D[12])\n",
    "print(D[\"he\"])\n",
    "print(S) # unorder - can't be accessed by index, no duplicates"
   ]
  },
  {
   "cell_type": "code",
   "execution_count": 15,
   "id": "1e25e997-7469-427e-b269-391759b6ca97",
   "metadata": {},
   "outputs": [
    {
     "data": {
      "text/plain": [
       "[3, 'list', 4.9, 3]"
      ]
     },
     "execution_count": 15,
     "metadata": {},
     "output_type": "execute_result"
    }
   ],
   "source": [
    "L[::-1] # reverse the list"
   ]
  },
  {
   "cell_type": "code",
   "execution_count": 17,
   "id": "7ed67e11-f39a-4d1c-bb48-f8b306e598c5",
   "metadata": {},
   "outputs": [],
   "source": [
    "L = L + [\"How\",\"dare\",\"you\",6] # append a list"
   ]
  },
  {
   "cell_type": "code",
   "execution_count": 21,
   "id": "628d2671-85af-46f0-8b4c-79eca2d0e6a4",
   "metadata": {},
   "outputs": [],
   "source": [
    "L.append(\"Lao\") # append one element"
   ]
  },
  {
   "cell_type": "code",
   "execution_count": 23,
   "id": "17ac4b62-90ca-4b5d-9c8e-5ebd508b3588",
   "metadata": {},
   "outputs": [
    {
     "data": {
      "text/plain": [
       "[3, 4.9, 'list', 3, 'How', 'dare', 'you', 6, 'Lao']"
      ]
     },
     "execution_count": 23,
     "metadata": {},
     "output_type": "execute_result"
    }
   ],
   "source": [
    "L"
   ]
  },
  {
   "cell_type": "code",
   "execution_count": 25,
   "id": "46110ca3-70ac-4e9b-b759-9828311ddd7c",
   "metadata": {},
   "outputs": [],
   "source": [
    "# tuple is imutapitable, can't insert/delete element\n",
    "T2 = (1,2,\"name\")\n",
    "T3 = T + T2"
   ]
  },
  {
   "cell_type": "code",
   "execution_count": 27,
   "id": "fd5c51cc-b003-4a7b-9d3d-8118746f747d",
   "metadata": {},
   "outputs": [
    {
     "data": {
      "text/plain": [
       "(3, 4.9, 'list', 3, 1, 2, 'name')"
      ]
     },
     "execution_count": 27,
     "metadata": {},
     "output_type": "execute_result"
    }
   ],
   "source": [
    "T3"
   ]
  },
  {
   "cell_type": "code",
   "execution_count": 41,
   "id": "75b3760f-a954-4e6d-a20a-7d13c0094c90",
   "metadata": {},
   "outputs": [
    {
     "data": {
      "text/plain": [
       "{3, 4.9, 'hello', 'helo', 'list', 'newYear', 'wow'}"
      ]
     },
     "execution_count": 41,
     "metadata": {},
     "output_type": "execute_result"
    }
   ],
   "source": [
    "# set - no duplicate elements\n",
    "S.add(\"wow\") # add one element\n",
    "S\n",
    "S.update({'wow','newYear'}) # add multiple elements\n",
    "S"
   ]
  },
  {
   "cell_type": "code",
   "execution_count": 43,
   "id": "b7306d40-03d3-43c4-8a27-55717e46ec58",
   "metadata": {},
   "outputs": [],
   "source": [
    "D[\"newKey\"] = \"newValue\""
   ]
  },
  {
   "cell_type": "code",
   "execution_count": 45,
   "id": "cfcd98f2-eaee-4e7c-9fc9-6bcf2e9c5fc2",
   "metadata": {},
   "outputs": [
    {
     "data": {
      "text/plain": [
       "{12: 'onetwo', 'he': 23, 'she': 'her', 45: 90, 'newKey': 'newValue'}"
      ]
     },
     "execution_count": 45,
     "metadata": {},
     "output_type": "execute_result"
    }
   ],
   "source": [
    "D"
   ]
  },
  {
   "cell_type": "code",
   "execution_count": 47,
   "id": "9791a99c-41cf-4344-9d52-f9ff135805e7",
   "metadata": {},
   "outputs": [],
   "source": [
    "D2 = {\"y\":\"YY\", \"z\":56}"
   ]
  },
  {
   "cell_type": "code",
   "execution_count": 51,
   "id": "cc39544f-9646-4080-a17b-f117216d4d8c",
   "metadata": {},
   "outputs": [],
   "source": [
    "D.update(D2) # concatinate two dictionary"
   ]
  },
  {
   "cell_type": "code",
   "execution_count": 53,
   "id": "db0bb8bd-3ea5-4912-b929-a63d7957a64f",
   "metadata": {},
   "outputs": [
    {
     "data": {
      "text/plain": [
       "{12: 'onetwo',\n",
       " 'he': 23,\n",
       " 'she': 'her',\n",
       " 45: 90,\n",
       " 'newKey': 'newValue',\n",
       " 'y': 'YY',\n",
       " 'z': 56}"
      ]
     },
     "execution_count": 53,
     "metadata": {},
     "output_type": "execute_result"
    }
   ],
   "source": [
    "D"
   ]
  },
  {
   "cell_type": "code",
   "execution_count": 3,
   "id": "9784441d-7cde-4e0f-9f24-764c6635f19b",
   "metadata": {},
   "outputs": [],
   "source": [
    "# shadow and deep copy of list\n",
    "Lnew = L # shadow copy, two variables ppint to the same memory address\n",
    "Lhard = L.copy() # deep copy, two seperate memory for storing contents"
   ]
  },
  {
   "cell_type": "code",
   "execution_count": 5,
   "id": "bd081c4a-7c82-46e7-862c-9cba790c0931",
   "metadata": {},
   "outputs": [
    {
     "data": {
      "text/plain": [
       "[3, 4.9, 'list', 3]"
      ]
     },
     "execution_count": 5,
     "metadata": {},
     "output_type": "execute_result"
    }
   ],
   "source": [
    "L"
   ]
  },
  {
   "cell_type": "code",
   "execution_count": 7,
   "id": "6d1f063f-0738-47ae-9755-795147bf39e8",
   "metadata": {},
   "outputs": [],
   "source": [
    "L3 = [x for x in range(10)]"
   ]
  },
  {
   "cell_type": "code",
   "execution_count": 9,
   "id": "2a9190fa-ba99-411c-8a27-c10459dd4c5a",
   "metadata": {},
   "outputs": [
    {
     "data": {
      "text/plain": [
       "[0, 1, 2, 3, 4, 5, 6, 7, 8, 9]"
      ]
     },
     "execution_count": 9,
     "metadata": {},
     "output_type": "execute_result"
    }
   ],
   "source": [
    "L3"
   ]
  },
  {
   "cell_type": "markdown",
   "id": "4e609918-d52b-4de4-b6d4-c37385edbd5b",
   "metadata": {},
   "source": [
    "# Numpy"
   ]
  },
  {
   "cell_type": "code",
   "execution_count": 11,
   "id": "b09639d1-c29e-4aa5-8773-6c90f4b13ba4",
   "metadata": {},
   "outputs": [],
   "source": [
    "import numpy as np"
   ]
  },
  {
   "cell_type": "code",
   "execution_count": 25,
   "id": "975966ce-b1c0-4da2-a926-9ddfc90f43b6",
   "metadata": {},
   "outputs": [],
   "source": [
    "a = np.array([1,2,3,4,5], dtype=\"i\")"
   ]
  },
  {
   "cell_type": "code",
   "execution_count": 27,
   "id": "140c34f5-1f55-48eb-aa6a-c8a0e14d4b02",
   "metadata": {},
   "outputs": [],
   "source": [
    "b= np.array((1,2,3), dtype=\"f\")"
   ]
  },
  {
   "cell_type": "code",
   "execution_count": 29,
   "id": "59908d7e-01d4-497d-9982-1fad1a54b5b6",
   "metadata": {},
   "outputs": [
    {
     "name": "stdout",
     "output_type": "stream",
     "text": [
      "[1 2 3 4 5]\n"
     ]
    }
   ],
   "source": [
    "print(a)"
   ]
  },
  {
   "cell_type": "code",
   "execution_count": 31,
   "id": "a9557285-108d-4d11-9df5-c9b9d07aedf9",
   "metadata": {},
   "outputs": [
    {
     "name": "stdout",
     "output_type": "stream",
     "text": [
      "[1. 2. 3.]\n"
     ]
    }
   ],
   "source": [
    "print(b)"
   ]
  },
  {
   "cell_type": "code",
   "execution_count": 33,
   "id": "593d649b-2339-4cba-9a2a-95aa16d8ed82",
   "metadata": {},
   "outputs": [
    {
     "name": "stdout",
     "output_type": "stream",
     "text": [
      "<class 'numpy.ndarray'>\n"
     ]
    }
   ],
   "source": [
    "print(type(a))"
   ]
  },
  {
   "cell_type": "code",
   "execution_count": 35,
   "id": "b26a0941-7e91-471c-a4bf-b045bda8bea1",
   "metadata": {},
   "outputs": [
    {
     "name": "stdout",
     "output_type": "stream",
     "text": [
      "<class 'numpy.ndarray'>\n"
     ]
    }
   ],
   "source": [
    "print(type(b))"
   ]
  },
  {
   "cell_type": "code",
   "execution_count": 37,
   "id": "7320a760-867a-4e07-b991-d10a1007b15c",
   "metadata": {},
   "outputs": [
    {
     "data": {
      "text/plain": [
       "dtype('float32')"
      ]
     },
     "execution_count": 37,
     "metadata": {},
     "output_type": "execute_result"
    }
   ],
   "source": [
    "b.dtype"
   ]
  },
  {
   "cell_type": "code",
   "execution_count": 39,
   "id": "265b6e59-97fd-47c4-b33f-7199d0a58bea",
   "metadata": {},
   "outputs": [],
   "source": [
    "a = np.array([[1,2,3],[4,5,6]])"
   ]
  },
  {
   "cell_type": "code",
   "execution_count": 41,
   "id": "4d4707dc-44ae-453a-8716-e607ae3671ea",
   "metadata": {},
   "outputs": [
    {
     "data": {
      "text/plain": [
       "2"
      ]
     },
     "execution_count": 41,
     "metadata": {},
     "output_type": "execute_result"
    }
   ],
   "source": [
    "a.ndim"
   ]
  },
  {
   "cell_type": "code",
   "execution_count": 43,
   "id": "9dee957b-fc12-480f-b659-b8d578e2990e",
   "metadata": {},
   "outputs": [
    {
     "data": {
      "text/plain": [
       "1"
      ]
     },
     "execution_count": 43,
     "metadata": {},
     "output_type": "execute_result"
    }
   ],
   "source": [
    "a[0,0]"
   ]
  },
  {
   "cell_type": "code",
   "execution_count": 45,
   "id": "feb0de9e-bc9e-4766-a981-fc8207b3b9a1",
   "metadata": {},
   "outputs": [],
   "source": [
    "c = np.array([[[\"he\",\"him\"],[\"she\",\"her\"]],[[\"it\",\"its\"],[\"they\",\"them\"]]])"
   ]
  },
  {
   "cell_type": "code",
   "execution_count": 47,
   "id": "39c669e1-6754-48a2-81b3-a639d3c2800b",
   "metadata": {},
   "outputs": [
    {
     "data": {
      "text/plain": [
       "3"
      ]
     },
     "execution_count": 47,
     "metadata": {},
     "output_type": "execute_result"
    }
   ],
   "source": [
    "c.ndim"
   ]
  },
  {
   "cell_type": "code",
   "execution_count": 49,
   "id": "1358785a-7d1d-4df9-bed0-0e81cd6e0f7a",
   "metadata": {},
   "outputs": [
    {
     "data": {
      "text/plain": [
       "'him'"
      ]
     },
     "execution_count": 49,
     "metadata": {},
     "output_type": "execute_result"
    }
   ],
   "source": [
    "c[0,0,1]"
   ]
  },
  {
   "cell_type": "code",
   "execution_count": 51,
   "id": "d8fb9a8b-e5b9-45b7-a153-1bfa06154b1e",
   "metadata": {},
   "outputs": [
    {
     "data": {
      "text/plain": [
       "(2, 2, 2)"
      ]
     },
     "execution_count": 51,
     "metadata": {},
     "output_type": "execute_result"
    }
   ],
   "source": [
    "c.shape"
   ]
  },
  {
   "cell_type": "code",
   "execution_count": 53,
   "id": "824090c1-3008-4ef9-a24c-359c9b67a37e",
   "metadata": {},
   "outputs": [],
   "source": [
    "# (2, 2, 2)\n",
    "# first 2 : how many 2 dimentional arrays are there\n",
    "# second 2 : in each 2 dimentional array, how many 1 dimentional arrays there\n",
    "# third 2: in each 1 dimentional array how many elements are there"
   ]
  },
  {
   "cell_type": "code",
   "execution_count": 57,
   "id": "34bfd426-894e-415c-8cdd-0458a1341740",
   "metadata": {},
   "outputs": [
    {
     "data": {
      "text/plain": [
       "2"
      ]
     },
     "execution_count": 57,
     "metadata": {},
     "output_type": "execute_result"
    }
   ],
   "source": [
    "c.shape[0] # tells you the total number of two dimentional arrays\n",
    "c.shape[1] # tells you in each 2D array how many 1D array are there\n",
    "c.shape[2] # tells you in each 1D array how many elements are there"
   ]
  },
  {
   "cell_type": "code",
   "execution_count": 59,
   "id": "81d8a124-cc17-422b-a94f-86b21de12a0e",
   "metadata": {},
   "outputs": [
    {
     "data": {
      "text/plain": [
       "array([ 20,  23,  26,  29,  32,  35,  38,  41,  44,  47,  50,  53,  56,\n",
       "        59,  62,  65,  68,  71,  74,  77,  80,  83,  86,  89,  92,  95,\n",
       "        98, 101, 104, 107, 110, 113, 116, 119, 122, 125, 128, 131, 134,\n",
       "       137, 140, 143, 146, 149, 152, 155, 158, 161, 164, 167, 170, 173,\n",
       "       176, 179, 182, 185, 188, 191, 194, 197])"
      ]
     },
     "execution_count": 59,
     "metadata": {},
     "output_type": "execute_result"
    }
   ],
   "source": [
    "np.arange(20,200,3) # for i in range(20,100,3)"
   ]
  },
  {
   "cell_type": "code",
   "execution_count": null,
   "id": "f82aa5df-94a0-4adf-8f89-11b3881658f8",
   "metadata": {},
   "outputs": [],
   "source": [
    "# iterators - generate number one by one"
   ]
  },
  {
   "cell_type": "code",
   "execution_count": 62,
   "id": "db83a2b3-8cca-43df-949f-77742871e1cb",
   "metadata": {},
   "outputs": [
    {
     "name": "stdout",
     "output_type": "stream",
     "text": [
      "[0, 1, 2, 3, 4, 5, 6, 7, 8, 9]\n"
     ]
    }
   ],
   "source": [
    "print(list(range(10)))"
   ]
  },
  {
   "cell_type": "code",
   "execution_count": 66,
   "id": "8b7917a8-6001-4744-9b64-372621565acf",
   "metadata": {},
   "outputs": [
    {
     "name": "stdout",
     "output_type": "stream",
     "text": [
      "[6 2 4 5 9 0 7 1 3 8]\n"
     ]
    }
   ],
   "source": [
    "A = np.random.permutation(np.arange(10)) # shuffle array, not in particular way\n",
    "print(A)"
   ]
  },
  {
   "cell_type": "code",
   "execution_count": 74,
   "id": "7607ad92-f1f6-418c-9fb2-c0d853cfddff",
   "metadata": {},
   "outputs": [
    {
     "name": "stdout",
     "output_type": "stream",
     "text": [
      "20\n"
     ]
    }
   ],
   "source": [
    "v = np.random.randint(20,30) # a random int number between 20 to 30\n",
    "print(v)"
   ]
  },
  {
   "cell_type": "code",
   "execution_count": 80,
   "id": "e620d4fb-d93a-4d4d-b4d9-6f4985848c21",
   "metadata": {},
   "outputs": [],
   "source": [
    "A = np.random.rand(1000) # randdom number between 0 to 1"
   ]
  },
  {
   "cell_type": "code",
   "execution_count": 88,
   "id": "b3e751e1-b2b9-48bc-8300-ce3a500701ee",
   "metadata": {},
   "outputs": [
    {
     "data": {
      "text/plain": [
       "(array([10., 10.,  8., 11., 10.,  6.,  7.,  5.,  9.,  8.,  8.,  8., 16.,\n",
       "         7.,  7.,  7., 17.,  5.,  3., 10.,  6., 14.,  7.,  7., 11., 11.,\n",
       "         8.,  8., 14.,  8., 17.,  8., 11., 14., 11., 12.,  7., 12.,  9.,\n",
       "         6., 16.,  9.,  9.,  6., 10., 16., 13., 10.,  8.,  8., 13.,  8.,\n",
       "        11., 11., 15.,  8.,  8., 11., 10., 10., 11., 15., 10., 10.,  8.,\n",
       "         7., 10.,  7.,  8.,  7., 15., 17., 11., 10., 14.,  6.,  6., 13.,\n",
       "         9.,  7.,  7., 18., 12., 11., 14.,  8., 12., 12.,  8.,  4., 15.,\n",
       "        12.,  7.,  8.,  6., 16.,  5., 12., 12., 17.]),\n",
       " array([2.40094417e-04, 1.02266332e-02, 2.02131719e-02, 3.01997107e-02,\n",
       "        4.01862495e-02, 5.01727882e-02, 6.01593270e-02, 7.01458658e-02,\n",
       "        8.01324045e-02, 9.01189433e-02, 1.00105482e-01, 1.10092021e-01,\n",
       "        1.20078560e-01, 1.30065098e-01, 1.40051637e-01, 1.50038176e-01,\n",
       "        1.60024715e-01, 1.70011253e-01, 1.79997792e-01, 1.89984331e-01,\n",
       "        1.99970870e-01, 2.09957408e-01, 2.19943947e-01, 2.29930486e-01,\n",
       "        2.39917025e-01, 2.49903563e-01, 2.59890102e-01, 2.69876641e-01,\n",
       "        2.79863180e-01, 2.89849719e-01, 2.99836257e-01, 3.09822796e-01,\n",
       "        3.19809335e-01, 3.29795874e-01, 3.39782412e-01, 3.49768951e-01,\n",
       "        3.59755490e-01, 3.69742029e-01, 3.79728567e-01, 3.89715106e-01,\n",
       "        3.99701645e-01, 4.09688184e-01, 4.19674722e-01, 4.29661261e-01,\n",
       "        4.39647800e-01, 4.49634339e-01, 4.59620878e-01, 4.69607416e-01,\n",
       "        4.79593955e-01, 4.89580494e-01, 4.99567033e-01, 5.09553571e-01,\n",
       "        5.19540110e-01, 5.29526649e-01, 5.39513188e-01, 5.49499726e-01,\n",
       "        5.59486265e-01, 5.69472804e-01, 5.79459343e-01, 5.89445881e-01,\n",
       "        5.99432420e-01, 6.09418959e-01, 6.19405498e-01, 6.29392036e-01,\n",
       "        6.39378575e-01, 6.49365114e-01, 6.59351653e-01, 6.69338192e-01,\n",
       "        6.79324730e-01, 6.89311269e-01, 6.99297808e-01, 7.09284347e-01,\n",
       "        7.19270885e-01, 7.29257424e-01, 7.39243963e-01, 7.49230502e-01,\n",
       "        7.59217040e-01, 7.69203579e-01, 7.79190118e-01, 7.89176657e-01,\n",
       "        7.99163195e-01, 8.09149734e-01, 8.19136273e-01, 8.29122812e-01,\n",
       "        8.39109351e-01, 8.49095889e-01, 8.59082428e-01, 8.69068967e-01,\n",
       "        8.79055506e-01, 8.89042044e-01, 8.99028583e-01, 9.09015122e-01,\n",
       "        9.19001661e-01, 9.28988199e-01, 9.38974738e-01, 9.48961277e-01,\n",
       "        9.58947816e-01, 9.68934354e-01, 9.78920893e-01, 9.88907432e-01,\n",
       "        9.98893971e-01]),\n",
       " <BarContainer object of 100 artists>)"
      ]
     },
     "execution_count": 88,
     "metadata": {},
     "output_type": "execute_result"
    },
    {
     "data": {
      "image/png": "[encoded data removed]",
      "text/plain": [
       "<Figure size 640x480 with 1 Axes>"
      ]
     },
     "metadata": {},
     "output_type": "display_data"
    }
   ],
   "source": [
    "import matplotlib.pyplot as plt\n",
    "plt.hist(A,bins=100) # uniform distribution"
   ]
  },
  {
   "cell_type": "code",
   "execution_count": 92,
   "id": "8a3261c0-b89f-4264-aed5-99d6203d55ca",
   "metadata": {},
   "outputs": [
    {
     "data": {
      "text/plain": [
       "(array([  1.,   0.,   1.,   1.,   0.,   1.,   0.,   2.,   2.,   4.,   5.,\n",
       "         13.,  10.,   4.,  16.,  14.,  14.,  19.,  17.,  20.,  37.,  36.,\n",
       "         48.,  47.,  58.,  75.,  75.,  85.,  96., 115., 127., 140., 149.,\n",
       "        194., 185., 181., 238., 244., 255., 253., 260., 298., 285., 275.,\n",
       "        286., 311., 340., 293., 298., 300., 281., 314., 267., 269., 274.,\n",
       "        251., 242., 239., 221., 209., 205., 178., 162., 154., 125., 104.,\n",
       "         94.,  85.,  97.,  67.,  66.,  64.,  38.,  48.,  41.,  44.,  29.,\n",
       "         20.,  18.,  14.,  11.,   2.,  11.,   4.,   6.,   2.,   6.,   1.,\n",
       "          0.,   0.,   3.,   2.,   1.,   1.,   0.,   0.,   1.,   0.,   0.,\n",
       "          1.]),\n",
       " array([-3.74236278, -3.66393987, -3.58551697, -3.50709406, -3.42867116,\n",
       "        -3.35024825, -3.27182535, -3.19340244, -3.11497954, -3.03655664,\n",
       "        -2.95813373, -2.87971083, -2.80128792, -2.72286502, -2.64444211,\n",
       "        -2.56601921, -2.4875963 , -2.4091734 , -2.33075049, -2.25232759,\n",
       "        -2.17390468, -2.09548178, -2.01705887, -1.93863597, -1.86021306,\n",
       "        -1.78179016, -1.70336725, -1.62494435, -1.54652144, -1.46809854,\n",
       "        -1.38967563, -1.31125273, -1.23282982, -1.15440692, -1.07598401,\n",
       "        -0.99756111, -0.9191382 , -0.8407153 , -0.76229239, -0.68386949,\n",
       "        -0.60544658, -0.52702368, -0.44860077, -0.37017787, -0.29175496,\n",
       "        -0.21333206, -0.13490915, -0.05648625,  0.02193666,  0.10035956,\n",
       "         0.17878247,  0.25720537,  0.33562828,  0.41405118,  0.49247409,\n",
       "         0.57089699,  0.6493199 ,  0.7277428 ,  0.80616571,  0.88458861,\n",
       "         0.96301152,  1.04143442,  1.11985733,  1.19828023,  1.27670314,\n",
       "         1.35512604,  1.43354895,  1.51197185,  1.59039476,  1.66881766,\n",
       "         1.74724057,  1.82566347,  1.90408638,  1.98250928,  2.06093219,\n",
       "         2.13935509,  2.217778  ,  2.2962009 ,  2.3746238 ,  2.45304671,\n",
       "         2.53146961,  2.60989252,  2.68831542,  2.76673833,  2.84516123,\n",
       "         2.92358414,  3.00200704,  3.08042995,  3.15885285,  3.23727576,\n",
       "         3.31569866,  3.39412157,  3.47254447,  3.55096738,  3.62939028,\n",
       "         3.70781319,  3.78623609,  3.864659  ,  3.9430819 ,  4.02150481,\n",
       "         4.09992771]),\n",
       " <BarContainer object of 100 artists>)"
      ]
     },
     "execution_count": 92,
     "metadata": {},
     "output_type": "execute_result"
    },
    {
     "data": {
      "image/png": "[encoded data removed]",
      "text/plain": [
       "<Figure size 640x480 with 1 Axes>"
      ]
     },
     "metadata": {},
     "output_type": "display_data"
    }
   ],
   "source": [
    "B = np.random.randn(10000)\n",
    "plt.hist(B,bins=100) # \"normal\" (Gaussian) distribution of mean 0 and variance 1"
   ]
  },
  {
   "cell_type": "code",
   "execution_count": 96,
   "id": "8be23969-467a-435a-9afe-0d45eebe7b39",
   "metadata": {},
   "outputs": [
    {
     "data": {
      "text/plain": [
       "array([[0.33064411, 0.04157275, 0.18584618],\n",
       "       [0.86502539, 0.89174898, 0.61446521]])"
      ]
     },
     "execution_count": 96,
     "metadata": {},
     "output_type": "execute_result"
    }
   ],
   "source": [
    "C = np.random.rand(2,3)\n",
    "C"
   ]
  },
  {
   "cell_type": "code",
   "execution_count": 102,
   "id": "d058edbb-93d4-4f94-964a-e179f4d2aca3",
   "metadata": {},
   "outputs": [
    {
     "data": {
      "text/plain": [
       "2"
      ]
     },
     "execution_count": 102,
     "metadata": {},
     "output_type": "execute_result"
    }
   ],
   "source": [
    "C.ndim"
   ]
  },
  {
   "cell_type": "code",
   "execution_count": 104,
   "id": "5a5ab08c-3c87-43da-930f-fceb35d06650",
   "metadata": {},
   "outputs": [
    {
     "data": {
      "text/plain": [
       "array([[[[0.24488655, 0.42049442],\n",
       "         [0.06054189, 0.77613353],\n",
       "         [0.363257  , 0.53032536],\n",
       "         [0.16560507, 0.32423375]],\n",
       "\n",
       "        [[0.51571757, 0.47546022],\n",
       "         [0.52516521, 0.83214803],\n",
       "         [0.88099289, 0.04667456],\n",
       "         [0.06386695, 0.3229645 ]],\n",
       "\n",
       "        [[0.85443319, 0.55721801],\n",
       "         [0.95944756, 0.75955651],\n",
       "         [0.79976832, 0.68250037],\n",
       "         [0.17112445, 0.34635047]]],\n",
       "\n",
       "\n",
       "       [[[0.95034338, 0.28393008],\n",
       "         [0.78459546, 0.8407919 ],\n",
       "         [0.19816293, 0.64226864],\n",
       "         [0.77686324, 0.35898386]],\n",
       "\n",
       "        [[0.72717674, 0.88292799],\n",
       "         [0.97987348, 0.60281376],\n",
       "         [0.87169895, 0.90333137],\n",
       "         [0.92217831, 0.60301771]],\n",
       "\n",
       "        [[0.97375353, 0.26608723],\n",
       "         [0.83011072, 0.6893151 ],\n",
       "         [0.46063235, 0.82845172],\n",
       "         [0.8968678 , 0.77407052]]]])"
      ]
     },
     "execution_count": 104,
     "metadata": {},
     "output_type": "execute_result"
    }
   ],
   "source": [
    "C = np.random.rand(2,3,4,2)\n",
    "C"
   ]
  },
  {
   "cell_type": "code",
   "execution_count": 108,
   "id": "a117a73b-a0b1-4ea6-adac-d884e1a6235e",
   "metadata": {},
   "outputs": [
    {
     "data": {
      "text/plain": [
       "4"
      ]
     },
     "execution_count": 108,
     "metadata": {},
     "output_type": "execute_result"
    }
   ],
   "source": [
    "C.ndim"
   ]
  },
  {
   "cell_type": "code",
   "execution_count": 112,
   "id": "c85200b2-7e45-4011-ae0e-98063f225821",
   "metadata": {},
   "outputs": [],
   "source": [
    "D = np.arange(100).reshape(4,25)"
   ]
  },
  {
   "cell_type": "code",
   "execution_count": 114,
   "id": "7c07421b-e17f-40d4-a7c1-a4989b9ba98f",
   "metadata": {},
   "outputs": [
    {
     "data": {
      "text/plain": [
       "(4, 25)"
      ]
     },
     "execution_count": 114,
     "metadata": {},
     "output_type": "execute_result"
    }
   ],
   "source": [
    "D.shape"
   ]
  },
  {
   "cell_type": "code",
   "execution_count": 116,
   "id": "8d36581f-aad7-4ecd-85fc-54714fd10cc6",
   "metadata": {},
   "outputs": [
    {
     "data": {
      "text/plain": [
       "array([[[ 0,  1,  2,  3,  4],\n",
       "        [ 5,  6,  7,  8,  9],\n",
       "        [10, 11, 12, 13, 14],\n",
       "        [15, 16, 17, 18, 19],\n",
       "        [20, 21, 22, 23, 24]],\n",
       "\n",
       "       [[25, 26, 27, 28, 29],\n",
       "        [30, 31, 32, 33, 34],\n",
       "        [35, 36, 37, 38, 39],\n",
       "        [40, 41, 42, 43, 44],\n",
       "        [45, 46, 47, 48, 49]],\n",
       "\n",
       "       [[50, 51, 52, 53, 54],\n",
       "        [55, 56, 57, 58, 59],\n",
       "        [60, 61, 62, 63, 64],\n",
       "        [65, 66, 67, 68, 69],\n",
       "        [70, 71, 72, 73, 74]],\n",
       "\n",
       "       [[75, 76, 77, 78, 79],\n",
       "        [80, 81, 82, 83, 84],\n",
       "        [85, 86, 87, 88, 89],\n",
       "        [90, 91, 92, 93, 94],\n",
       "        [95, 96, 97, 98, 99]]])"
      ]
     },
     "execution_count": 116,
     "metadata": {},
     "output_type": "execute_result"
    }
   ],
   "source": [
    "D = np.arange(100).reshape(4,5,5)\n",
    "D"
   ]
  },
  {
   "cell_type": "markdown",
   "id": "ce956303-2a5e-43bc-9189-2fb05f18559b",
   "metadata": {},
   "source": [
    "Numpy Slicing"
   ]
  },
  {
   "cell_type": "code",
   "execution_count": 118,
   "id": "e54d1eb3-39b0-4c57-a717-c4e1b601c0b1",
   "metadata": {},
   "outputs": [],
   "source": [
    "A = np.arange(100)"
   ]
  },
  {
   "cell_type": "code",
   "execution_count": 121,
   "id": "a6923461-af06-4e66-ae5e-e6d9cecdfce8",
   "metadata": {},
   "outputs": [],
   "source": [
    "B = A[3:10] # B is a slice of A, B just a copy of A, they share the same memory address"
   ]
  },
  {
   "cell_type": "code",
   "execution_count": 123,
   "id": "8c3125d5-195a-4679-98e5-cf019211ce81",
   "metadata": {},
   "outputs": [
    {
     "data": {
      "text/plain": [
       "array([3, 4, 5, 6, 7, 8, 9])"
      ]
     },
     "execution_count": 123,
     "metadata": {},
     "output_type": "execute_result"
    }
   ],
   "source": [
    "B"
   ]
  },
  {
   "cell_type": "code",
   "execution_count": 125,
   "id": "c5aefaaf-9ca8-46c0-9f7f-4537eaeeec51",
   "metadata": {},
   "outputs": [],
   "source": [
    "B[0] = 900"
   ]
  },
  {
   "cell_type": "code",
   "execution_count": 127,
   "id": "50ed9f06-689f-494c-9e04-7b12296d0ea6",
   "metadata": {},
   "outputs": [
    {
     "data": {
      "text/plain": [
       "array([  0,   1,   2, 900,   4,   5,   6,   7,   8,   9,  10,  11,  12,\n",
       "        13,  14,  15,  16,  17,  18,  19,  20,  21,  22,  23,  24,  25,\n",
       "        26,  27,  28,  29,  30,  31,  32,  33,  34,  35,  36,  37,  38,\n",
       "        39,  40,  41,  42,  43,  44,  45,  46,  47,  48,  49,  50,  51,\n",
       "        52,  53,  54,  55,  56,  57,  58,  59,  60,  61,  62,  63,  64,\n",
       "        65,  66,  67,  68,  69,  70,  71,  72,  73,  74,  75,  76,  77,\n",
       "        78,  79,  80,  81,  82,  83,  84,  85,  86,  87,  88,  89,  90,\n",
       "        91,  92,  93,  94,  95,  96,  97,  98,  99])"
      ]
     },
     "execution_count": 127,
     "metadata": {},
     "output_type": "execute_result"
    }
   ],
   "source": [
    "A # Change in B affect A"
   ]
  },
  {
   "cell_type": "code",
   "execution_count": 133,
   "id": "f769877e-cbc5-4c08-acda-55b346cd1fa6",
   "metadata": {},
   "outputs": [],
   "source": [
    "B = A[3:10].copy() # deep copy, B has different memory address"
   ]
  },
  {
   "cell_type": "code",
   "execution_count": 135,
   "id": "ded5495e-0225-418b-aaf4-adf7b8306e99",
   "metadata": {},
   "outputs": [
    {
     "data": {
      "text/plain": [
       "array([900,   4,   5,   6,   7,   8,   9])"
      ]
     },
     "execution_count": 135,
     "metadata": {},
     "output_type": "execute_result"
    }
   ],
   "source": [
    "B"
   ]
  },
  {
   "cell_type": "code",
   "execution_count": 137,
   "id": "f2fff376-305c-45cf-b231-ccf3c829cf09",
   "metadata": {},
   "outputs": [],
   "source": [
    "B[0] = 1200"
   ]
  },
  {
   "cell_type": "code",
   "execution_count": 141,
   "id": "bcbf1321-36f4-457e-acc5-a707f280a2f3",
   "metadata": {},
   "outputs": [
    {
     "data": {
      "text/plain": [
       "array([1200,    4,    5,    6,    7,    8,    9])"
      ]
     },
     "execution_count": 141,
     "metadata": {},
     "output_type": "execute_result"
    }
   ],
   "source": [
    "B"
   ]
  },
  {
   "cell_type": "code",
   "execution_count": 143,
   "id": "98d1057b-0665-4e4a-925f-4b29bba91db9",
   "metadata": {},
   "outputs": [
    {
     "data": {
      "text/plain": [
       "array([  0,   1,   2, 900,   4,   5,   6,   7,   8,   9,  10,  11,  12,\n",
       "        13,  14,  15,  16,  17,  18,  19,  20,  21,  22,  23,  24,  25,\n",
       "        26,  27,  28,  29,  30,  31,  32,  33,  34,  35,  36,  37,  38,\n",
       "        39,  40,  41,  42,  43,  44,  45,  46,  47,  48,  49,  50,  51,\n",
       "        52,  53,  54,  55,  56,  57,  58,  59,  60,  61,  62,  63,  64,\n",
       "        65,  66,  67,  68,  69,  70,  71,  72,  73,  74,  75,  76,  77,\n",
       "        78,  79,  80,  81,  82,  83,  84,  85,  86,  87,  88,  89,  90,\n",
       "        91,  92,  93,  94,  95,  96,  97,  98,  99])"
      ]
     },
     "execution_count": 143,
     "metadata": {},
     "output_type": "execute_result"
    }
   ],
   "source": [
    "A # A is not affected by B"
   ]
  },
  {
   "cell_type": "code",
   "execution_count": 149,
   "id": "3eb5c064-e2a4-49a7-86d2-f6d8a2e9c3ca",
   "metadata": {},
   "outputs": [
    {
     "data": {
      "text/plain": [
       "array([[3]], dtype=int64)"
      ]
     },
     "execution_count": 149,
     "metadata": {},
     "output_type": "execute_result"
    }
   ],
   "source": [
    "idx = np.argwhere(A == 900)\n",
    "idx"
   ]
  },
  {
   "cell_type": "code",
   "execution_count": 161,
   "id": "64b5a47b-349e-4dd8-950e-d14aa956b539",
   "metadata": {},
   "outputs": [
    {
     "data": {
      "text/plain": [
       "3"
      ]
     },
     "execution_count": 161,
     "metadata": {},
     "output_type": "execute_result"
    }
   ],
   "source": [
    "idx[0,0]"
   ]
  },
  {
   "cell_type": "code",
   "execution_count": 155,
   "id": "e6628a31-6783-4a59-81be-cc1d0ada879d",
   "metadata": {},
   "outputs": [
    {
     "data": {
      "text/plain": [
       "3"
      ]
     },
     "execution_count": 155,
     "metadata": {},
     "output_type": "execute_result"
    }
   ],
   "source": [
    "idx[0][0]"
   ]
  },
  {
   "cell_type": "code",
   "execution_count": 157,
   "id": "1eb22b2a-4342-481d-8d4e-26ff29157b6b",
   "metadata": {},
   "outputs": [],
   "source": [
    "A[idx[0][0]]=3"
   ]
  },
  {
   "cell_type": "code",
   "execution_count": 159,
   "id": "75f476bd-e49b-4e48-a08e-d3a5462641a7",
   "metadata": {},
   "outputs": [
    {
     "data": {
      "text/plain": [
       "array([ 0,  1,  2,  3,  4,  5,  6,  7,  8,  9, 10, 11, 12, 13, 14, 15, 16,\n",
       "       17, 18, 19, 20, 21, 22, 23, 24, 25, 26, 27, 28, 29, 30, 31, 32, 33,\n",
       "       34, 35, 36, 37, 38, 39, 40, 41, 42, 43, 44, 45, 46, 47, 48, 49, 50,\n",
       "       51, 52, 53, 54, 55, 56, 57, 58, 59, 60, 61, 62, 63, 64, 65, 66, 67,\n",
       "       68, 69, 70, 71, 72, 73, 74, 75, 76, 77, 78, 79, 80, 81, 82, 83, 84,\n",
       "       85, 86, 87, 88, 89, 90, 91, 92, 93, 94, 95, 96, 97, 98, 99])"
      ]
     },
     "execution_count": 159,
     "metadata": {},
     "output_type": "execute_result"
    }
   ],
   "source": [
    "A"
   ]
  },
  {
   "cell_type": "code",
   "execution_count": 167,
   "id": "6ee8892a-4fbc-49f2-bf55-8aadec6e4a19",
   "metadata": {},
   "outputs": [],
   "source": [
    "A = np.round(10*np.random.rand(5,4))"
   ]
  },
  {
   "cell_type": "code",
   "execution_count": 169,
   "id": "b1ac5191-b7f2-403d-8407-f9b3d74ac4e2",
   "metadata": {},
   "outputs": [
    {
     "data": {
      "text/plain": [
       "array([[4., 9., 7., 9.],\n",
       "       [3., 2., 6., 9.],\n",
       "       [6., 0., 2., 3.],\n",
       "       [2., 4., 5., 4.],\n",
       "       [0., 9., 2., 1.]])"
      ]
     },
     "execution_count": 169,
     "metadata": {},
     "output_type": "execute_result"
    }
   ],
   "source": [
    "A"
   ]
  },
  {
   "cell_type": "code",
   "execution_count": 171,
   "id": "168bbf80-b4ee-4463-bd02-a748911205c5",
   "metadata": {},
   "outputs": [
    {
     "data": {
      "text/plain": [
       "4.0"
      ]
     },
     "execution_count": 171,
     "metadata": {},
     "output_type": "execute_result"
    }
   ],
   "source": [
    "A[0,0]"
   ]
  },
  {
   "cell_type": "code",
   "execution_count": 173,
   "id": "a89634f8-b603-4912-97ea-ff37d2858e3f",
   "metadata": {},
   "outputs": [
    {
     "data": {
      "text/plain": [
       "array([4., 9., 7., 9.])"
      ]
     },
     "execution_count": 173,
     "metadata": {},
     "output_type": "execute_result"
    }
   ],
   "source": [
    "A[0]"
   ]
  },
  {
   "cell_type": "code",
   "execution_count": 175,
   "id": "22147a38-96f2-425e-b9e5-d491b7bb60bf",
   "metadata": {},
   "outputs": [
    {
     "data": {
      "text/plain": [
       "4.0"
      ]
     },
     "execution_count": 175,
     "metadata": {},
     "output_type": "execute_result"
    }
   ],
   "source": [
    "A[0][0]"
   ]
  },
  {
   "cell_type": "code",
   "execution_count": 177,
   "id": "4220ee7f-3bb1-418b-b3e4-d16d30ee7025",
   "metadata": {},
   "outputs": [
    {
     "data": {
      "text/plain": [
       "array([3., 2., 6., 9.])"
      ]
     },
     "execution_count": 177,
     "metadata": {},
     "output_type": "execute_result"
    }
   ],
   "source": [
    "A[1,:] # the whole second row"
   ]
  },
  {
   "cell_type": "code",
   "execution_count": 179,
   "id": "5b79b732-a929-4055-a23e-69b83eb59a34",
   "metadata": {},
   "outputs": [
    {
     "data": {
      "text/plain": [
       "array([3., 2., 6., 9.])"
      ]
     },
     "execution_count": 179,
     "metadata": {},
     "output_type": "execute_result"
    }
   ],
   "source": [
    "A[1]"
   ]
  },
  {
   "cell_type": "code",
   "execution_count": 181,
   "id": "90601cfc-00ae-407b-b1e1-87173f131d40",
   "metadata": {},
   "outputs": [
    {
     "data": {
      "text/plain": [
       "array([9., 2., 0., 4., 9.])"
      ]
     },
     "execution_count": 181,
     "metadata": {},
     "output_type": "execute_result"
    }
   ],
   "source": [
    "A[:,1] # whole second column"
   ]
  },
  {
   "cell_type": "code",
   "execution_count": 183,
   "id": "0e03bf94-2ee5-4f3e-9f43-67f065cea168",
   "metadata": {},
   "outputs": [
    {
     "data": {
      "text/plain": [
       "array([[6., 9.],\n",
       "       [2., 3.]])"
      ]
     },
     "execution_count": 183,
     "metadata": {},
     "output_type": "execute_result"
    }
   ],
   "source": [
    "A[1:3,2:4]"
   ]
  },
  {
   "cell_type": "code",
   "execution_count": 185,
   "id": "29afe47a-5298-4550-9d10-4d0f9fd5bb8b",
   "metadata": {},
   "outputs": [],
   "source": [
    "A.sort(axis=0) # sort every column individually"
   ]
  },
  {
   "cell_type": "code",
   "execution_count": 187,
   "id": "b76e1a26-f523-44c4-96dc-7fdcee68d41b",
   "metadata": {},
   "outputs": [
    {
     "data": {
      "text/plain": [
       "array([[0., 0., 2., 1.],\n",
       "       [2., 2., 2., 3.],\n",
       "       [3., 4., 5., 4.],\n",
       "       [4., 9., 6., 9.],\n",
       "       [6., 9., 7., 9.]])"
      ]
     },
     "execution_count": 187,
     "metadata": {},
     "output_type": "execute_result"
    }
   ],
   "source": [
    "A"
   ]
  },
  {
   "cell_type": "code",
   "execution_count": 189,
   "id": "477b21d3-5560-48e8-a659-76b6bb3304f7",
   "metadata": {},
   "outputs": [],
   "source": [
    "A.sort(axis=1) # sort every row individually"
   ]
  },
  {
   "cell_type": "code",
   "execution_count": 191,
   "id": "51858a06-9c44-41cf-8d9a-fee30c6d9d23",
   "metadata": {},
   "outputs": [
    {
     "data": {
      "text/plain": [
       "array([[0., 0., 1., 2.],\n",
       "       [2., 2., 2., 3.],\n",
       "       [3., 4., 4., 5.],\n",
       "       [4., 6., 9., 9.],\n",
       "       [6., 7., 9., 9.]])"
      ]
     },
     "execution_count": 191,
     "metadata": {},
     "output_type": "execute_result"
    }
   ],
   "source": [
    "A"
   ]
  },
  {
   "cell_type": "markdown",
   "id": "8c704f45-5a85-4b04-91a5-665876487939",
   "metadata": {},
   "source": [
    "Masking (fancy indexing)"
   ]
  },
  {
   "cell_type": "code",
   "execution_count": 194,
   "id": "87b9081a-3b02-4d3d-b816-6f95dd8cff05",
   "metadata": {},
   "outputs": [],
   "source": [
    "A = np.arange(100)"
   ]
  },
  {
   "cell_type": "code",
   "execution_count": 196,
   "id": "07fd8e1b-9b06-4c67-8046-b4c53b95f0d5",
   "metadata": {},
   "outputs": [],
   "source": [
    "B = A[[3,5,6]]"
   ]
  },
  {
   "cell_type": "code",
   "execution_count": 198,
   "id": "e307b415-d35f-43a6-855f-580120b1d4f4",
   "metadata": {},
   "outputs": [
    {
     "data": {
      "text/plain": [
       "array([3, 5, 6])"
      ]
     },
     "execution_count": 198,
     "metadata": {},
     "output_type": "execute_result"
    }
   ],
   "source": [
    "B"
   ]
  },
  {
   "cell_type": "code",
   "execution_count": 200,
   "id": "b37db2c5-e623-4e18-993e-6619b17bebd7",
   "metadata": {},
   "outputs": [],
   "source": [
    "B[0] = -4"
   ]
  },
  {
   "cell_type": "code",
   "execution_count": 202,
   "id": "0dadb3fc-ccae-4b96-a135-56bb390f7988",
   "metadata": {},
   "outputs": [
    {
     "data": {
      "text/plain": [
       "array([-4,  5,  6])"
      ]
     },
     "execution_count": 202,
     "metadata": {},
     "output_type": "execute_result"
    }
   ],
   "source": [
    "B"
   ]
  },
  {
   "cell_type": "code",
   "execution_count": 204,
   "id": "6499c7fd-af12-4d33-9a54-6a40c262ffc0",
   "metadata": {},
   "outputs": [
    {
     "data": {
      "text/plain": [
       "array([ 0,  1,  2,  3,  4,  5,  6,  7,  8,  9, 10, 11, 12, 13, 14, 15, 16,\n",
       "       17, 18, 19, 20, 21, 22, 23, 24, 25, 26, 27, 28, 29, 30, 31, 32, 33,\n",
       "       34, 35, 36, 37, 38, 39, 40, 41, 42, 43, 44, 45, 46, 47, 48, 49, 50,\n",
       "       51, 52, 53, 54, 55, 56, 57, 58, 59, 60, 61, 62, 63, 64, 65, 66, 67,\n",
       "       68, 69, 70, 71, 72, 73, 74, 75, 76, 77, 78, 79, 80, 81, 82, 83, 84,\n",
       "       85, 86, 87, 88, 89, 90, 91, 92, 93, 94, 95, 96, 97, 98, 99])"
      ]
     },
     "execution_count": 204,
     "metadata": {},
     "output_type": "execute_result"
    }
   ],
   "source": [
    "A # won't be effected by B"
   ]
  },
  {
   "cell_type": "code",
   "execution_count": 206,
   "id": "846bb43a-4431-4c4e-a1e4-c02732222081",
   "metadata": {},
   "outputs": [],
   "source": [
    "B = A[(A<40) & (A>30)]"
   ]
  },
  {
   "cell_type": "code",
   "execution_count": 208,
   "id": "2d2a5759-142d-4d48-92c5-dd4987e6da0b",
   "metadata": {},
   "outputs": [
    {
     "data": {
      "text/plain": [
       "array([31, 32, 33, 34, 35, 36, 37, 38, 39])"
      ]
     },
     "execution_count": 208,
     "metadata": {},
     "output_type": "execute_result"
    }
   ],
   "source": [
    "B"
   ]
  },
  {
   "cell_type": "code",
   "execution_count": 210,
   "id": "4c08507a-ab8b-4071-a6c1-fc7f76d976bd",
   "metadata": {},
   "outputs": [],
   "source": [
    "# &, |, ~ operators used for arrays\n",
    "# and, or, not used for single objects"
   ]
  },
  {
   "cell_type": "markdown",
   "id": "1f83e3aa-dfd8-4826-84cc-dd6d3df14540",
   "metadata": {},
   "source": [
    "Broadcasting;\n",
    "np.hstack;\n",
    "np.vstach;\n",
    "np.sort(axis=0);"
   ]
  },
  {
   "cell_type": "code",
   "execution_count": 222,
   "id": "9242264e-9531-4eef-8cf9-3cd04c0f0fb2",
   "metadata": {},
   "outputs": [
    {
     "data": {
      "text/plain": [
       "array([[10.,  0.,  1.],\n",
       "       [ 4.,  4.,  0.]])"
      ]
     },
     "execution_count": 222,
     "metadata": {},
     "output_type": "execute_result"
    }
   ],
   "source": [
    "A = np.round(10*np.random.rand(2,3))\n",
    "A"
   ]
  },
  {
   "cell_type": "code",
   "execution_count": 224,
   "id": "963ec31d-1e08-468a-af68-5a16ec690882",
   "metadata": {},
   "outputs": [
    {
     "data": {
      "text/plain": [
       "array([[13.,  3.,  4.],\n",
       "       [ 7.,  7.,  3.]])"
      ]
     },
     "execution_count": 224,
     "metadata": {},
     "output_type": "execute_result"
    }
   ],
   "source": [
    "A + 3"
   ]
  },
  {
   "cell_type": "code",
   "execution_count": 226,
   "id": "2e22023b-20af-4bbd-8844-67f4d471fdbb",
   "metadata": {},
   "outputs": [],
   "source": [
    "B = np.round(np.random.rand(2,2))"
   ]
  },
  {
   "cell_type": "code",
   "execution_count": 228,
   "id": "b4c434d9-8ee3-423c-b436-660fe30ccfd3",
   "metadata": {},
   "outputs": [
    {
     "data": {
      "text/plain": [
       "array([[0., 1.],\n",
       "       [1., 0.]])"
      ]
     },
     "execution_count": 228,
     "metadata": {},
     "output_type": "execute_result"
    }
   ],
   "source": [
    "B"
   ]
  },
  {
   "cell_type": "code",
   "execution_count": 230,
   "id": "b94b6ef3-f1c4-49f4-9aa8-222eeccbb1a0",
   "metadata": {},
   "outputs": [],
   "source": [
    "C = np.hstack((A,B))"
   ]
  },
  {
   "cell_type": "code",
   "execution_count": 232,
   "id": "fd10a7be-2ffd-494d-bf26-8e8b99c4021f",
   "metadata": {},
   "outputs": [
    {
     "data": {
      "text/plain": [
       "array([[10.,  0.,  1.,  0.,  1.],\n",
       "       [ 4.,  4.,  0.,  1.,  0.]])"
      ]
     },
     "execution_count": 232,
     "metadata": {},
     "output_type": "execute_result"
    }
   ],
   "source": [
    "C"
   ]
  },
  {
   "cell_type": "code",
   "execution_count": 234,
   "id": "2fe654a5-de46-4867-bc6d-49a17efa43d8",
   "metadata": {},
   "outputs": [
    {
     "data": {
      "text/plain": [
       "array([0, 1, 2, 3, 4, 5, 6, 7, 8, 9])"
      ]
     },
     "execution_count": 234,
     "metadata": {},
     "output_type": "execute_result"
    }
   ],
   "source": [
    "np.arange(10)"
   ]
  },
  {
   "cell_type": "code",
   "execution_count": 240,
   "id": "3f304f3f-007b-4c2d-9f64-21a201f876df",
   "metadata": {},
   "outputs": [],
   "source": [
    "A = np.random.permutation(np.arange(10))"
   ]
  },
  {
   "cell_type": "markdown",
   "id": "8e254424-1571-488d-b23e-bcd4bbdaaa4b",
   "metadata": {},
   "source": [
    "Numpy(speed:ufuncs)"
   ]
  },
  {
   "cell_type": "code",
   "execution_count": 242,
   "id": "9e892b05-0e00-4bd6-9944-edfe906a3a10",
   "metadata": {},
   "outputs": [
    {
     "name": "stdout",
     "output_type": "stream",
     "text": [
      "1.11 ms ± 5.99 μs per loop (mean ± std. dev. of 7 runs, 1,000 loops each)\n",
      "7.65 μs ± 161 ns per loop (mean ± std. dev. of 7 runs, 100,000 loops each)\n"
     ]
    }
   ],
   "source": [
    "B = np.random.rand(10000)\n",
    "%timeit sum(B)\n",
    "%timeit np.sum(B) # B.sum()"
   ]
  },
  {
   "cell_type": "markdown",
   "id": "be62d94f-9686-41bc-babb-3ffd2abc999c",
   "metadata": {},
   "source": [
    "# Pandas"
   ]
  },
  {
   "cell_type": "code",
   "execution_count": 246,
   "id": "c4915e70-5f00-47fb-8c5d-3ac1215fa805",
   "metadata": {},
   "outputs": [],
   "source": [
    "import pandas as pd"
   ]
  },
  {
   "cell_type": "code",
   "execution_count": 252,
   "id": "ed6fcfdf-1e32-475d-8b62-bd6e4193fa0f",
   "metadata": {},
   "outputs": [],
   "source": [
    "A = pd.Series([2,3,4,5],index=['a','b','c','d']) # series likes dictionary"
   ]
  },
  {
   "cell_type": "code",
   "execution_count": 256,
   "id": "1203f24a-f476-45ca-843e-697e61486e85",
   "metadata": {},
   "outputs": [
    {
     "data": {
      "text/plain": [
       "array([2, 3, 4, 5], dtype=int64)"
      ]
     },
     "execution_count": 256,
     "metadata": {},
     "output_type": "execute_result"
    }
   ],
   "source": [
    "A.values"
   ]
  },
  {
   "cell_type": "code",
   "execution_count": 258,
   "id": "e2d9d143-eb2d-43ad-be57-ee3a1dbaefd9",
   "metadata": {},
   "outputs": [
    {
     "data": {
      "text/plain": [
       "numpy.ndarray"
      ]
     },
     "execution_count": 258,
     "metadata": {},
     "output_type": "execute_result"
    }
   ],
   "source": [
    "type(A.values)"
   ]
  },
  {
   "cell_type": "code",
   "execution_count": 260,
   "id": "ac0b8b03-b09a-41ec-8c58-083dfeb12953",
   "metadata": {},
   "outputs": [
    {
     "data": {
      "text/plain": [
       "pandas.core.series.Series"
      ]
     },
     "execution_count": 260,
     "metadata": {},
     "output_type": "execute_result"
    }
   ],
   "source": [
    "type(A)"
   ]
  },
  {
   "cell_type": "code",
   "execution_count": 262,
   "id": "af622e63-b93c-4524-890f-d68d7915f2ea",
   "metadata": {},
   "outputs": [
    {
     "data": {
      "text/plain": [
       "Index(['a', 'b', 'c', 'd'], dtype='object')"
      ]
     },
     "execution_count": 262,
     "metadata": {},
     "output_type": "execute_result"
    }
   ],
   "source": [
    "A.index"
   ]
  },
  {
   "cell_type": "code",
   "execution_count": 266,
   "id": "bd1e4a45-2e26-4954-bf5a-ebb7c9c4d81f",
   "metadata": {},
   "outputs": [
    {
     "data": {
      "text/plain": [
       "a    2\n",
       "b    3\n",
       "c    4\n",
       "dtype: int64"
      ]
     },
     "execution_count": 266,
     "metadata": {},
     "output_type": "execute_result"
    }
   ],
   "source": [
    "A['a':'c']"
   ]
  },
  {
   "cell_type": "code",
   "execution_count": 268,
   "id": "41d1ab67-46bd-4fdd-98b9-ab550e9b933a",
   "metadata": {},
   "outputs": [],
   "source": [
    "grads_dict = {'A':4,'B':3.5,'C':3,'D':2.5}\n",
    "grads = pd.Series(grads_dict)"
   ]
  },
  {
   "cell_type": "code",
   "execution_count": 270,
   "id": "84ac4a1e-42e9-450c-b95b-2ba084b86ef5",
   "metadata": {},
   "outputs": [
    {
     "data": {
      "text/plain": [
       "array([4. , 3.5, 3. , 2.5])"
      ]
     },
     "execution_count": 270,
     "metadata": {},
     "output_type": "execute_result"
    }
   ],
   "source": [
    "grads.values"
   ]
  },
  {
   "cell_type": "code",
   "execution_count": 272,
   "id": "136d2623-9360-4c1e-94b0-3ed961757ec2",
   "metadata": {},
   "outputs": [],
   "source": [
    "marks_dict = {'A':85, 'B':75, 'C':65, 'D':55}\n",
    "marks = pd.Series(marks_dict)"
   ]
  },
  {
   "cell_type": "code",
   "execution_count": 274,
   "id": "9488acc3-b529-46c6-b0c1-b42a3cf872e9",
   "metadata": {},
   "outputs": [
    {
     "data": {
      "text/plain": [
       "A    85\n",
       "B    75\n",
       "C    65\n",
       "D    55\n",
       "dtype: int64"
      ]
     },
     "execution_count": 274,
     "metadata": {},
     "output_type": "execute_result"
    }
   ],
   "source": [
    "marks"
   ]
  },
  {
   "cell_type": "code",
   "execution_count": 278,
   "id": "f17ffcae-f1a5-4408-af0f-ae3f179f8932",
   "metadata": {},
   "outputs": [
    {
     "data": {
      "text/plain": [
       "A    85\n",
       "B    75\n",
       "C    65\n",
       "dtype: int64"
      ]
     },
     "execution_count": 278,
     "metadata": {},
     "output_type": "execute_result"
    }
   ],
   "source": [
    "marks['A':'C']"
   ]
  },
  {
   "cell_type": "code",
   "execution_count": 280,
   "id": "39b4adf7-abc1-4073-b819-0ae70385c6b1",
   "metadata": {},
   "outputs": [
    {
     "data": {
      "text/plain": [
       "A    85\n",
       "B    75\n",
       "dtype: int64"
      ]
     },
     "execution_count": 280,
     "metadata": {},
     "output_type": "execute_result"
    }
   ],
   "source": [
    "marks[0:2]"
   ]
  },
  {
   "cell_type": "markdown",
   "id": "56950c4d-aa30-4eca-8869-1cd99112f088",
   "metadata": {},
   "source": [
    "Pandas(DataFrame)"
   ]
  },
  {
   "cell_type": "code",
   "execution_count": 283,
   "id": "7d5abe51-39fc-4ec1-8c9f-96a9574f527a",
   "metadata": {},
   "outputs": [],
   "source": [
    "D = pd.DataFrame({'Marks':marks,'Grads':grads})"
   ]
  },
  {
   "cell_type": "code",
   "execution_count": 285,
   "id": "dfa78f5f-9874-4ae5-bf35-d3345f2577ed",
   "metadata": {},
   "outputs": [
    {
     "data": {
      "text/html": [
       "<div>\n",
       "<style scoped>\n",
       "    .dataframe tbody tr th:only-of-type {\n",
       "        vertical-align: middle;\n",
       "    }\n",
       "\n",
       "    .dataframe tbody tr th {\n",
       "        vertical-align: top;\n",
       "    }\n",
       "\n",
       "    .dataframe thead th {\n",
       "        text-align: right;\n",
       "    }\n",
       "</style>\n",
       "<table border=\"1\" class=\"dataframe\">\n",
       "  <thead>\n",
       "    <tr style=\"text-align: right;\">\n",
       "      <th></th>\n",
       "      <th>Marks</th>\n",
       "      <th>Grads</th>\n",
       "    </tr>\n",
       "  </thead>\n",
       "  <tbody>\n",
       "    <tr>\n",
       "      <th>A</th>\n",
       "      <td>85</td>\n",
       "      <td>4.0</td>\n",
       "    </tr>\n",
       "    <tr>\n",
       "      <th>B</th>\n",
       "      <td>75</td>\n",
       "      <td>3.5</td>\n",
       "    </tr>\n",
       "    <tr>\n",
       "      <th>C</th>\n",
       "      <td>65</td>\n",
       "      <td>3.0</td>\n",
       "    </tr>\n",
       "    <tr>\n",
       "      <th>D</th>\n",
       "      <td>55</td>\n",
       "      <td>2.5</td>\n",
       "    </tr>\n",
       "  </tbody>\n",
       "</table>\n",
       "</div>"
      ],
      "text/plain": [
       "   Marks  Grads\n",
       "A     85    4.0\n",
       "B     75    3.5\n",
       "C     65    3.0\n",
       "D     55    2.5"
      ]
     },
     "execution_count": 285,
     "metadata": {},
     "output_type": "execute_result"
    }
   ],
   "source": [
    "D"
   ]
  },
  {
   "cell_type": "code",
   "execution_count": 287,
   "id": "dd0b8d7b-9f2e-44cc-830e-eed8d00b6a38",
   "metadata": {},
   "outputs": [
    {
     "data": {
      "text/html": [
       "<div>\n",
       "<style scoped>\n",
       "    .dataframe tbody tr th:only-of-type {\n",
       "        vertical-align: middle;\n",
       "    }\n",
       "\n",
       "    .dataframe tbody tr th {\n",
       "        vertical-align: top;\n",
       "    }\n",
       "\n",
       "    .dataframe thead th {\n",
       "        text-align: right;\n",
       "    }\n",
       "</style>\n",
       "<table border=\"1\" class=\"dataframe\">\n",
       "  <thead>\n",
       "    <tr style=\"text-align: right;\">\n",
       "      <th></th>\n",
       "      <th>A</th>\n",
       "      <th>B</th>\n",
       "      <th>C</th>\n",
       "      <th>D</th>\n",
       "    </tr>\n",
       "  </thead>\n",
       "  <tbody>\n",
       "    <tr>\n",
       "      <th>Marks</th>\n",
       "      <td>85.0</td>\n",
       "      <td>75.0</td>\n",
       "      <td>65.0</td>\n",
       "      <td>55.0</td>\n",
       "    </tr>\n",
       "    <tr>\n",
       "      <th>Grads</th>\n",
       "      <td>4.0</td>\n",
       "      <td>3.5</td>\n",
       "      <td>3.0</td>\n",
       "      <td>2.5</td>\n",
       "    </tr>\n",
       "  </tbody>\n",
       "</table>\n",
       "</div>"
      ],
      "text/plain": [
       "          A     B     C     D\n",
       "Marks  85.0  75.0  65.0  55.0\n",
       "Grads   4.0   3.5   3.0   2.5"
      ]
     },
     "execution_count": 287,
     "metadata": {},
     "output_type": "execute_result"
    }
   ],
   "source": [
    "D.T # transpose/flip"
   ]
  },
  {
   "cell_type": "code",
   "execution_count": 289,
   "id": "ad317942-4964-46f9-80fb-588b0eb71174",
   "metadata": {},
   "outputs": [
    {
     "data": {
      "text/plain": [
       "array([[85. ,  4. ],\n",
       "       [75. ,  3.5],\n",
       "       [65. ,  3. ],\n",
       "       [55. ,  2.5]])"
      ]
     },
     "execution_count": 289,
     "metadata": {},
     "output_type": "execute_result"
    }
   ],
   "source": [
    "D.values"
   ]
  },
  {
   "cell_type": "code",
   "execution_count": 293,
   "id": "41f50407-caeb-4085-80db-204ecf243444",
   "metadata": {},
   "outputs": [
    {
     "data": {
      "text/plain": [
       "65.0"
      ]
     },
     "execution_count": 293,
     "metadata": {},
     "output_type": "execute_result"
    }
   ],
   "source": [
    "D.values[2,0]"
   ]
  },
  {
   "cell_type": "code",
   "execution_count": 295,
   "id": "d0e7bce9-9691-417e-bac2-872e10da6da2",
   "metadata": {},
   "outputs": [],
   "source": [
    "D['ScaledMarks'] = 100*(D['Marks']/90)"
   ]
  },
  {
   "cell_type": "code",
   "execution_count": 297,
   "id": "d694b3d9-1bb1-440e-8d81-20f8d26079ca",
   "metadata": {},
   "outputs": [
    {
     "data": {
      "text/html": [
       "<div>\n",
       "<style scoped>\n",
       "    .dataframe tbody tr th:only-of-type {\n",
       "        vertical-align: middle;\n",
       "    }\n",
       "\n",
       "    .dataframe tbody tr th {\n",
       "        vertical-align: top;\n",
       "    }\n",
       "\n",
       "    .dataframe thead th {\n",
       "        text-align: right;\n",
       "    }\n",
       "</style>\n",
       "<table border=\"1\" class=\"dataframe\">\n",
       "  <thead>\n",
       "    <tr style=\"text-align: right;\">\n",
       "      <th></th>\n",
       "      <th>Marks</th>\n",
       "      <th>Grads</th>\n",
       "      <th>ScaledMarks</th>\n",
       "    </tr>\n",
       "  </thead>\n",
       "  <tbody>\n",
       "    <tr>\n",
       "      <th>A</th>\n",
       "      <td>85</td>\n",
       "      <td>4.0</td>\n",
       "      <td>94.444444</td>\n",
       "    </tr>\n",
       "    <tr>\n",
       "      <th>B</th>\n",
       "      <td>75</td>\n",
       "      <td>3.5</td>\n",
       "      <td>83.333333</td>\n",
       "    </tr>\n",
       "    <tr>\n",
       "      <th>C</th>\n",
       "      <td>65</td>\n",
       "      <td>3.0</td>\n",
       "      <td>72.222222</td>\n",
       "    </tr>\n",
       "    <tr>\n",
       "      <th>D</th>\n",
       "      <td>55</td>\n",
       "      <td>2.5</td>\n",
       "      <td>61.111111</td>\n",
       "    </tr>\n",
       "  </tbody>\n",
       "</table>\n",
       "</div>"
      ],
      "text/plain": [
       "   Marks  Grads  ScaledMarks\n",
       "A     85    4.0    94.444444\n",
       "B     75    3.5    83.333333\n",
       "C     65    3.0    72.222222\n",
       "D     55    2.5    61.111111"
      ]
     },
     "execution_count": 297,
     "metadata": {},
     "output_type": "execute_result"
    }
   ],
   "source": [
    "D"
   ]
  },
  {
   "cell_type": "code",
   "execution_count": 299,
   "id": "e72605d3-1f79-4310-9cf7-cfce589f3dcb",
   "metadata": {},
   "outputs": [],
   "source": [
    "del D['ScaledMarks']"
   ]
  },
  {
   "cell_type": "code",
   "execution_count": 301,
   "id": "9e6507bd-d1a7-48a2-9a41-5a5adfb0bf62",
   "metadata": {},
   "outputs": [
    {
     "data": {
      "text/html": [
       "<div>\n",
       "<style scoped>\n",
       "    .dataframe tbody tr th:only-of-type {\n",
       "        vertical-align: middle;\n",
       "    }\n",
       "\n",
       "    .dataframe tbody tr th {\n",
       "        vertical-align: top;\n",
       "    }\n",
       "\n",
       "    .dataframe thead th {\n",
       "        text-align: right;\n",
       "    }\n",
       "</style>\n",
       "<table border=\"1\" class=\"dataframe\">\n",
       "  <thead>\n",
       "    <tr style=\"text-align: right;\">\n",
       "      <th></th>\n",
       "      <th>Marks</th>\n",
       "      <th>Grads</th>\n",
       "    </tr>\n",
       "  </thead>\n",
       "  <tbody>\n",
       "    <tr>\n",
       "      <th>A</th>\n",
       "      <td>85</td>\n",
       "      <td>4.0</td>\n",
       "    </tr>\n",
       "    <tr>\n",
       "      <th>B</th>\n",
       "      <td>75</td>\n",
       "      <td>3.5</td>\n",
       "    </tr>\n",
       "    <tr>\n",
       "      <th>C</th>\n",
       "      <td>65</td>\n",
       "      <td>3.0</td>\n",
       "    </tr>\n",
       "    <tr>\n",
       "      <th>D</th>\n",
       "      <td>55</td>\n",
       "      <td>2.5</td>\n",
       "    </tr>\n",
       "  </tbody>\n",
       "</table>\n",
       "</div>"
      ],
      "text/plain": [
       "   Marks  Grads\n",
       "A     85    4.0\n",
       "B     75    3.5\n",
       "C     65    3.0\n",
       "D     55    2.5"
      ]
     },
     "execution_count": 301,
     "metadata": {},
     "output_type": "execute_result"
    }
   ],
   "source": [
    "D"
   ]
  },
  {
   "cell_type": "code",
   "execution_count": 303,
   "id": "f823ee55-91b4-4b34-bfc7-16657beb8df6",
   "metadata": {},
   "outputs": [],
   "source": [
    "G = D[D['Marks']>70]"
   ]
  },
  {
   "cell_type": "code",
   "execution_count": 305,
   "id": "a5a47087-a70e-4411-bca2-68bcbd43ad73",
   "metadata": {},
   "outputs": [
    {
     "data": {
      "text/html": [
       "<div>\n",
       "<style scoped>\n",
       "    .dataframe tbody tr th:only-of-type {\n",
       "        vertical-align: middle;\n",
       "    }\n",
       "\n",
       "    .dataframe tbody tr th {\n",
       "        vertical-align: top;\n",
       "    }\n",
       "\n",
       "    .dataframe thead th {\n",
       "        text-align: right;\n",
       "    }\n",
       "</style>\n",
       "<table border=\"1\" class=\"dataframe\">\n",
       "  <thead>\n",
       "    <tr style=\"text-align: right;\">\n",
       "      <th></th>\n",
       "      <th>Marks</th>\n",
       "      <th>Grads</th>\n",
       "    </tr>\n",
       "  </thead>\n",
       "  <tbody>\n",
       "    <tr>\n",
       "      <th>A</th>\n",
       "      <td>85</td>\n",
       "      <td>4.0</td>\n",
       "    </tr>\n",
       "    <tr>\n",
       "      <th>B</th>\n",
       "      <td>75</td>\n",
       "      <td>3.5</td>\n",
       "    </tr>\n",
       "  </tbody>\n",
       "</table>\n",
       "</div>"
      ],
      "text/plain": [
       "   Marks  Grads\n",
       "A     85    4.0\n",
       "B     75    3.5"
      ]
     },
     "execution_count": 305,
     "metadata": {},
     "output_type": "execute_result"
    }
   ],
   "source": [
    "G"
   ]
  },
  {
   "cell_type": "markdown",
   "id": "2e810e4b-6264-435f-becf-58a6aacdccda",
   "metadata": {},
   "source": [
    "Pandas(NaN)"
   ]
  },
  {
   "cell_type": "code",
   "execution_count": 321,
   "id": "18ff7073-23c9-4de9-bbfa-0e7d2b66d37b",
   "metadata": {},
   "outputs": [],
   "source": [
    "A = pd.DataFrame([{'a':5,'b':3},{'b':-1,'c':9}])"
   ]
  },
  {
   "cell_type": "code",
   "execution_count": 323,
   "id": "5b147cbe-c295-4040-bb90-22fbe9510d9d",
   "metadata": {},
   "outputs": [
    {
     "data": {
      "text/html": [
       "<div>\n",
       "<style scoped>\n",
       "    .dataframe tbody tr th:only-of-type {\n",
       "        vertical-align: middle;\n",
       "    }\n",
       "\n",
       "    .dataframe tbody tr th {\n",
       "        vertical-align: top;\n",
       "    }\n",
       "\n",
       "    .dataframe thead th {\n",
       "        text-align: right;\n",
       "    }\n",
       "</style>\n",
       "<table border=\"1\" class=\"dataframe\">\n",
       "  <thead>\n",
       "    <tr style=\"text-align: right;\">\n",
       "      <th></th>\n",
       "      <th>a</th>\n",
       "      <th>b</th>\n",
       "      <th>c</th>\n",
       "    </tr>\n",
       "  </thead>\n",
       "  <tbody>\n",
       "    <tr>\n",
       "      <th>0</th>\n",
       "      <td>5.0</td>\n",
       "      <td>3</td>\n",
       "      <td>NaN</td>\n",
       "    </tr>\n",
       "    <tr>\n",
       "      <th>1</th>\n",
       "      <td>NaN</td>\n",
       "      <td>-1</td>\n",
       "      <td>9.0</td>\n",
       "    </tr>\n",
       "  </tbody>\n",
       "</table>\n",
       "</div>"
      ],
      "text/plain": [
       "     a  b    c\n",
       "0  5.0  3  NaN\n",
       "1  NaN -1  9.0"
      ]
     },
     "execution_count": 323,
     "metadata": {},
     "output_type": "execute_result"
    }
   ],
   "source": [
    "A"
   ]
  },
  {
   "cell_type": "code",
   "execution_count": 325,
   "id": "b5f1fe64-133e-46b6-ae87-d7d4d03a9d30",
   "metadata": {},
   "outputs": [],
   "source": [
    "#A = pd.DataFrame({'a':5,'b':3},{'b':-1,'c':9})"
   ]
  },
  {
   "cell_type": "code",
   "execution_count": 331,
   "id": "ae5092b4-413b-4d3f-b1e8-4703381c6eac",
   "metadata": {},
   "outputs": [
    {
     "data": {
      "text/html": [
       "<div>\n",
       "<style scoped>\n",
       "    .dataframe tbody tr th:only-of-type {\n",
       "        vertical-align: middle;\n",
       "    }\n",
       "\n",
       "    .dataframe tbody tr th {\n",
       "        vertical-align: top;\n",
       "    }\n",
       "\n",
       "    .dataframe thead th {\n",
       "        text-align: right;\n",
       "    }\n",
       "</style>\n",
       "<table border=\"1\" class=\"dataframe\">\n",
       "  <thead>\n",
       "    <tr style=\"text-align: right;\">\n",
       "      <th></th>\n",
       "      <th>a</th>\n",
       "      <th>b</th>\n",
       "      <th>c</th>\n",
       "    </tr>\n",
       "  </thead>\n",
       "  <tbody>\n",
       "    <tr>\n",
       "      <th>0</th>\n",
       "      <td>5.0</td>\n",
       "      <td>3</td>\n",
       "      <td>0.0</td>\n",
       "    </tr>\n",
       "    <tr>\n",
       "      <th>1</th>\n",
       "      <td>0.0</td>\n",
       "      <td>-1</td>\n",
       "      <td>9.0</td>\n",
       "    </tr>\n",
       "  </tbody>\n",
       "</table>\n",
       "</div>"
      ],
      "text/plain": [
       "     a  b    c\n",
       "0  5.0  3  0.0\n",
       "1  0.0 -1  9.0"
      ]
     },
     "execution_count": 331,
     "metadata": {},
     "output_type": "execute_result"
    }
   ],
   "source": [
    "A.fillna(0)"
   ]
  },
  {
   "cell_type": "code",
   "execution_count": 335,
   "id": "03efbdae-ac0f-4358-9e6a-e2fdddf3da0f",
   "metadata": {},
   "outputs": [],
   "source": [
    "# A.dropna?"
   ]
  },
  {
   "cell_type": "markdown",
   "id": "025e20dc-e665-4b0b-9f11-00dbb03547d7",
   "metadata": {},
   "source": [
    "Pandas(indexing)"
   ]
  },
  {
   "cell_type": "markdown",
   "id": "8b48a1d0-ad27-47af-bc5e-0b4cf84f03f9",
   "metadata": {},
   "source": [
    "##### implicit index use iloc & explicit index use loc"
   ]
  },
  {
   "cell_type": "code",
   "execution_count": 344,
   "id": "96ec7dde-67ab-42ff-a003-0596519a3256",
   "metadata": {},
   "outputs": [],
   "source": [
    "A = pd.Series(['a','b','c'],[1,3,5])"
   ]
  },
  {
   "cell_type": "code",
   "execution_count": 346,
   "id": "62bb2684-527d-48c3-8918-e85b11eae737",
   "metadata": {},
   "outputs": [
    {
     "data": {
      "text/plain": [
       "1    a\n",
       "3    b\n",
       "5    c\n",
       "dtype: object"
      ]
     },
     "execution_count": 346,
     "metadata": {},
     "output_type": "execute_result"
    }
   ],
   "source": [
    "A"
   ]
  },
  {
   "cell_type": "code",
   "execution_count": 348,
   "id": "c921faa2-9362-4880-ae5f-275c9e17882d",
   "metadata": {},
   "outputs": [
    {
     "data": {
      "text/plain": [
       "1    a\n",
       "3    b\n",
       "dtype: object"
      ]
     },
     "execution_count": 348,
     "metadata": {},
     "output_type": "execute_result"
    }
   ],
   "source": [
    "A.loc[1:3]"
   ]
  },
  {
   "cell_type": "code",
   "execution_count": 350,
   "id": "cb6dfbfb-2bfe-4a68-9fae-ea4b208e1fb8",
   "metadata": {},
   "outputs": [
    {
     "data": {
      "text/plain": [
       "3    b\n",
       "5    c\n",
       "dtype: object"
      ]
     },
     "execution_count": 350,
     "metadata": {},
     "output_type": "execute_result"
    }
   ],
   "source": [
    "A.iloc[1:3] # or A.[1:3]"
   ]
  },
  {
   "cell_type": "code",
   "execution_count": 352,
   "id": "3a18fe43-13a1-4d9f-b866-9f2d2db919d3",
   "metadata": {},
   "outputs": [
    {
     "data": {
      "text/html": [
       "<div>\n",
       "<style scoped>\n",
       "    .dataframe tbody tr th:only-of-type {\n",
       "        vertical-align: middle;\n",
       "    }\n",
       "\n",
       "    .dataframe tbody tr th {\n",
       "        vertical-align: top;\n",
       "    }\n",
       "\n",
       "    .dataframe thead th {\n",
       "        text-align: right;\n",
       "    }\n",
       "</style>\n",
       "<table border=\"1\" class=\"dataframe\">\n",
       "  <thead>\n",
       "    <tr style=\"text-align: right;\">\n",
       "      <th></th>\n",
       "      <th>Marks</th>\n",
       "      <th>Grads</th>\n",
       "    </tr>\n",
       "  </thead>\n",
       "  <tbody>\n",
       "    <tr>\n",
       "      <th>A</th>\n",
       "      <td>85</td>\n",
       "      <td>4.0</td>\n",
       "    </tr>\n",
       "    <tr>\n",
       "      <th>B</th>\n",
       "      <td>75</td>\n",
       "      <td>3.5</td>\n",
       "    </tr>\n",
       "    <tr>\n",
       "      <th>C</th>\n",
       "      <td>65</td>\n",
       "      <td>3.0</td>\n",
       "    </tr>\n",
       "    <tr>\n",
       "      <th>D</th>\n",
       "      <td>55</td>\n",
       "      <td>2.5</td>\n",
       "    </tr>\n",
       "  </tbody>\n",
       "</table>\n",
       "</div>"
      ],
      "text/plain": [
       "   Marks  Grads\n",
       "A     85    4.0\n",
       "B     75    3.5\n",
       "C     65    3.0\n",
       "D     55    2.5"
      ]
     },
     "execution_count": 352,
     "metadata": {},
     "output_type": "execute_result"
    }
   ],
   "source": [
    "D"
   ]
  },
  {
   "cell_type": "code",
   "execution_count": 354,
   "id": "063b24d5-d1e2-469a-8358-7cdcbdd2014f",
   "metadata": {},
   "outputs": [
    {
     "data": {
      "text/html": [
       "<div>\n",
       "<style scoped>\n",
       "    .dataframe tbody tr th:only-of-type {\n",
       "        vertical-align: middle;\n",
       "    }\n",
       "\n",
       "    .dataframe tbody tr th {\n",
       "        vertical-align: top;\n",
       "    }\n",
       "\n",
       "    .dataframe thead th {\n",
       "        text-align: right;\n",
       "    }\n",
       "</style>\n",
       "<table border=\"1\" class=\"dataframe\">\n",
       "  <thead>\n",
       "    <tr style=\"text-align: right;\">\n",
       "      <th></th>\n",
       "      <th>Marks</th>\n",
       "      <th>Grads</th>\n",
       "    </tr>\n",
       "  </thead>\n",
       "  <tbody>\n",
       "    <tr>\n",
       "      <th>D</th>\n",
       "      <td>55</td>\n",
       "      <td>2.5</td>\n",
       "    </tr>\n",
       "    <tr>\n",
       "      <th>C</th>\n",
       "      <td>65</td>\n",
       "      <td>3.0</td>\n",
       "    </tr>\n",
       "    <tr>\n",
       "      <th>B</th>\n",
       "      <td>75</td>\n",
       "      <td>3.5</td>\n",
       "    </tr>\n",
       "    <tr>\n",
       "      <th>A</th>\n",
       "      <td>85</td>\n",
       "      <td>4.0</td>\n",
       "    </tr>\n",
       "  </tbody>\n",
       "</table>\n",
       "</div>"
      ],
      "text/plain": [
       "   Marks  Grads\n",
       "D     55    2.5\n",
       "C     65    3.0\n",
       "B     75    3.5\n",
       "A     85    4.0"
      ]
     },
     "execution_count": 354,
     "metadata": {},
     "output_type": "execute_result"
    }
   ],
   "source": [
    "D.iloc[::-1]"
   ]
  },
  {
   "cell_type": "markdown",
   "id": "7f253f76-3d8f-4f25-bd45-8aba865fa899",
   "metadata": {},
   "source": [
    "##### Pands (CSV files)"
   ]
  },
  {
   "cell_type": "code",
   "execution_count": 358,
   "id": "262e1a94-8a6b-4030-aa53-a163d2344b57",
   "metadata": {},
   "outputs": [],
   "source": [
    "from sklearn.impute import SimpleImputer"
   ]
  },
  {
   "cell_type": "code",
   "execution_count": 362,
   "id": "8ce921f4-1e09-45c9-bc79-92b0ac2729f6",
   "metadata": {},
   "outputs": [],
   "source": [
    "df = pd.read_csv('C:\\\\Users\\\\leero\\\\Downloads\\\\country_wise_latest.csv')"
   ]
  },
  {
   "cell_type": "code",
   "execution_count": 368,
   "id": "3e51f272-1ea1-407d-aadc-db5ec532d346",
   "metadata": {},
   "outputs": [
    {
     "data": {
      "text/html": [
       "<div>\n",
       "<style scoped>\n",
       "    .dataframe tbody tr th:only-of-type {\n",
       "        vertical-align: middle;\n",
       "    }\n",
       "\n",
       "    .dataframe tbody tr th {\n",
       "        vertical-align: top;\n",
       "    }\n",
       "\n",
       "    .dataframe thead th {\n",
       "        text-align: right;\n",
       "    }\n",
       "</style>\n",
       "<table border=\"1\" class=\"dataframe\">\n",
       "  <thead>\n",
       "    <tr style=\"text-align: right;\">\n",
       "      <th></th>\n",
       "      <th>Country/Region</th>\n",
       "      <th>Confirmed</th>\n",
       "      <th>Deaths</th>\n",
       "      <th>Recovered</th>\n",
       "      <th>Active</th>\n",
       "      <th>New cases</th>\n",
       "      <th>New deaths</th>\n",
       "      <th>New recovered</th>\n",
       "      <th>Deaths / 100 Cases</th>\n",
       "      <th>Recovered / 100 Cases</th>\n",
       "      <th>Deaths / 100 Recovered</th>\n",
       "      <th>Confirmed last week</th>\n",
       "      <th>1 week change</th>\n",
       "      <th>1 week % increase</th>\n",
       "      <th>WHO Region</th>\n",
       "    </tr>\n",
       "  </thead>\n",
       "  <tbody>\n",
       "    <tr>\n",
       "      <th>0</th>\n",
       "      <td>Afghanistan</td>\n",
       "      <td>36263</td>\n",
       "      <td>1269</td>\n",
       "      <td>25198</td>\n",
       "      <td>9796</td>\n",
       "      <td>106</td>\n",
       "      <td>10</td>\n",
       "      <td>18</td>\n",
       "      <td>3.50</td>\n",
       "      <td>69.49</td>\n",
       "      <td>5.04</td>\n",
       "      <td>35526</td>\n",
       "      <td>737</td>\n",
       "      <td>2.07</td>\n",
       "      <td>Eastern Mediterranean</td>\n",
       "    </tr>\n",
       "    <tr>\n",
       "      <th>1</th>\n",
       "      <td>Albania</td>\n",
       "      <td>4880</td>\n",
       "      <td>144</td>\n",
       "      <td>2745</td>\n",
       "      <td>1991</td>\n",
       "      <td>117</td>\n",
       "      <td>6</td>\n",
       "      <td>63</td>\n",
       "      <td>2.95</td>\n",
       "      <td>56.25</td>\n",
       "      <td>5.25</td>\n",
       "      <td>4171</td>\n",
       "      <td>709</td>\n",
       "      <td>17.00</td>\n",
       "      <td>Europe</td>\n",
       "    </tr>\n",
       "    <tr>\n",
       "      <th>2</th>\n",
       "      <td>Algeria</td>\n",
       "      <td>27973</td>\n",
       "      <td>1163</td>\n",
       "      <td>18837</td>\n",
       "      <td>7973</td>\n",
       "      <td>616</td>\n",
       "      <td>8</td>\n",
       "      <td>749</td>\n",
       "      <td>4.16</td>\n",
       "      <td>67.34</td>\n",
       "      <td>6.17</td>\n",
       "      <td>23691</td>\n",
       "      <td>4282</td>\n",
       "      <td>18.07</td>\n",
       "      <td>Africa</td>\n",
       "    </tr>\n",
       "    <tr>\n",
       "      <th>3</th>\n",
       "      <td>Andorra</td>\n",
       "      <td>907</td>\n",
       "      <td>52</td>\n",
       "      <td>803</td>\n",
       "      <td>52</td>\n",
       "      <td>10</td>\n",
       "      <td>0</td>\n",
       "      <td>0</td>\n",
       "      <td>5.73</td>\n",
       "      <td>88.53</td>\n",
       "      <td>6.48</td>\n",
       "      <td>884</td>\n",
       "      <td>23</td>\n",
       "      <td>2.60</td>\n",
       "      <td>Europe</td>\n",
       "    </tr>\n",
       "    <tr>\n",
       "      <th>4</th>\n",
       "      <td>Angola</td>\n",
       "      <td>950</td>\n",
       "      <td>41</td>\n",
       "      <td>242</td>\n",
       "      <td>667</td>\n",
       "      <td>18</td>\n",
       "      <td>1</td>\n",
       "      <td>0</td>\n",
       "      <td>4.32</td>\n",
       "      <td>25.47</td>\n",
       "      <td>16.94</td>\n",
       "      <td>749</td>\n",
       "      <td>201</td>\n",
       "      <td>26.84</td>\n",
       "      <td>Africa</td>\n",
       "    </tr>\n",
       "    <tr>\n",
       "      <th>5</th>\n",
       "      <td>Antigua and Barbuda</td>\n",
       "      <td>86</td>\n",
       "      <td>3</td>\n",
       "      <td>65</td>\n",
       "      <td>18</td>\n",
       "      <td>4</td>\n",
       "      <td>0</td>\n",
       "      <td>5</td>\n",
       "      <td>3.49</td>\n",
       "      <td>75.58</td>\n",
       "      <td>4.62</td>\n",
       "      <td>76</td>\n",
       "      <td>10</td>\n",
       "      <td>13.16</td>\n",
       "      <td>Americas</td>\n",
       "    </tr>\n",
       "    <tr>\n",
       "      <th>6</th>\n",
       "      <td>Argentina</td>\n",
       "      <td>167416</td>\n",
       "      <td>3059</td>\n",
       "      <td>72575</td>\n",
       "      <td>91782</td>\n",
       "      <td>4890</td>\n",
       "      <td>120</td>\n",
       "      <td>2057</td>\n",
       "      <td>1.83</td>\n",
       "      <td>43.35</td>\n",
       "      <td>4.21</td>\n",
       "      <td>130774</td>\n",
       "      <td>36642</td>\n",
       "      <td>28.02</td>\n",
       "      <td>Americas</td>\n",
       "    </tr>\n",
       "    <tr>\n",
       "      <th>7</th>\n",
       "      <td>Armenia</td>\n",
       "      <td>37390</td>\n",
       "      <td>711</td>\n",
       "      <td>26665</td>\n",
       "      <td>10014</td>\n",
       "      <td>73</td>\n",
       "      <td>6</td>\n",
       "      <td>187</td>\n",
       "      <td>1.90</td>\n",
       "      <td>71.32</td>\n",
       "      <td>2.67</td>\n",
       "      <td>34981</td>\n",
       "      <td>2409</td>\n",
       "      <td>6.89</td>\n",
       "      <td>Europe</td>\n",
       "    </tr>\n",
       "    <tr>\n",
       "      <th>8</th>\n",
       "      <td>Australia</td>\n",
       "      <td>15303</td>\n",
       "      <td>167</td>\n",
       "      <td>9311</td>\n",
       "      <td>5825</td>\n",
       "      <td>368</td>\n",
       "      <td>6</td>\n",
       "      <td>137</td>\n",
       "      <td>1.09</td>\n",
       "      <td>60.84</td>\n",
       "      <td>1.79</td>\n",
       "      <td>12428</td>\n",
       "      <td>2875</td>\n",
       "      <td>23.13</td>\n",
       "      <td>Western Pacific</td>\n",
       "    </tr>\n",
       "    <tr>\n",
       "      <th>9</th>\n",
       "      <td>Austria</td>\n",
       "      <td>20558</td>\n",
       "      <td>713</td>\n",
       "      <td>18246</td>\n",
       "      <td>1599</td>\n",
       "      <td>86</td>\n",
       "      <td>1</td>\n",
       "      <td>37</td>\n",
       "      <td>3.47</td>\n",
       "      <td>88.75</td>\n",
       "      <td>3.91</td>\n",
       "      <td>19743</td>\n",
       "      <td>815</td>\n",
       "      <td>4.13</td>\n",
       "      <td>Europe</td>\n",
       "    </tr>\n",
       "  </tbody>\n",
       "</table>\n",
       "</div>"
      ],
      "text/plain": [
       "        Country/Region  Confirmed  Deaths  Recovered  Active  New cases  \\\n",
       "0          Afghanistan      36263    1269      25198    9796        106   \n",
       "1              Albania       4880     144       2745    1991        117   \n",
       "2              Algeria      27973    1163      18837    7973        616   \n",
       "3              Andorra        907      52        803      52         10   \n",
       "4               Angola        950      41        242     667         18   \n",
       "5  Antigua and Barbuda         86       3         65      18          4   \n",
       "6            Argentina     167416    3059      72575   91782       4890   \n",
       "7              Armenia      37390     711      26665   10014         73   \n",
       "8            Australia      15303     167       9311    5825        368   \n",
       "9              Austria      20558     713      18246    1599         86   \n",
       "\n",
       "   New deaths  New recovered  Deaths / 100 Cases  Recovered / 100 Cases  \\\n",
       "0          10             18                3.50                  69.49   \n",
       "1           6             63                2.95                  56.25   \n",
       "2           8            749                4.16                  67.34   \n",
       "3           0              0                5.73                  88.53   \n",
       "4           1              0                4.32                  25.47   \n",
       "5           0              5                3.49                  75.58   \n",
       "6         120           2057                1.83                  43.35   \n",
       "7           6            187                1.90                  71.32   \n",
       "8           6            137                1.09                  60.84   \n",
       "9           1             37                3.47                  88.75   \n",
       "\n",
       "   Deaths / 100 Recovered  Confirmed last week  1 week change  \\\n",
       "0                    5.04                35526            737   \n",
       "1                    5.25                 4171            709   \n",
       "2                    6.17                23691           4282   \n",
       "3                    6.48                  884             23   \n",
       "4                   16.94                  749            201   \n",
       "5                    4.62                   76             10   \n",
       "6                    4.21               130774          36642   \n",
       "7                    2.67                34981           2409   \n",
       "8                    1.79                12428           2875   \n",
       "9                    3.91                19743            815   \n",
       "\n",
       "   1 week % increase             WHO Region  \n",
       "0               2.07  Eastern Mediterranean  \n",
       "1              17.00                 Europe  \n",
       "2              18.07                 Africa  \n",
       "3               2.60                 Europe  \n",
       "4              26.84                 Africa  \n",
       "5              13.16               Americas  \n",
       "6              28.02               Americas  \n",
       "7               6.89                 Europe  \n",
       "8              23.13        Western Pacific  \n",
       "9               4.13                 Europe  "
      ]
     },
     "execution_count": 368,
     "metadata": {},
     "output_type": "execute_result"
    }
   ],
   "source": [
    "df.head(10) # review the first 10 recordes, by default it's 5 de.head()"
   ]
  },
  {
   "cell_type": "code",
   "execution_count": 374,
   "id": "a9f9c93c-5808-42ec-a10d-ee25f77b2e3e",
   "metadata": {},
   "outputs": [],
   "source": [
    "df.drop(['Active','New cases'], axis=1,inplace=True) \n",
    "# Axis = 1 do that stuff with columns; \n",
    "#inplace = True - reflect changes in this df variable, if not true, it will do this stuff and return a tempory variable"
   ]
  },
  {
   "cell_type": "code",
   "execution_count": 376,
   "id": "554089a0-d412-49b8-b0d2-b40d49c49e41",
   "metadata": {},
   "outputs": [
    {
     "data": {
      "text/html": [
       "<div>\n",
       "<style scoped>\n",
       "    .dataframe tbody tr th:only-of-type {\n",
       "        vertical-align: middle;\n",
       "    }\n",
       "\n",
       "    .dataframe tbody tr th {\n",
       "        vertical-align: top;\n",
       "    }\n",
       "\n",
       "    .dataframe thead th {\n",
       "        text-align: right;\n",
       "    }\n",
       "</style>\n",
       "<table border=\"1\" class=\"dataframe\">\n",
       "  <thead>\n",
       "    <tr style=\"text-align: right;\">\n",
       "      <th></th>\n",
       "      <th>Country/Region</th>\n",
       "      <th>Confirmed</th>\n",
       "      <th>Deaths</th>\n",
       "      <th>Recovered</th>\n",
       "      <th>New deaths</th>\n",
       "      <th>New recovered</th>\n",
       "      <th>Deaths / 100 Cases</th>\n",
       "      <th>Recovered / 100 Cases</th>\n",
       "      <th>Deaths / 100 Recovered</th>\n",
       "      <th>Confirmed last week</th>\n",
       "      <th>1 week change</th>\n",
       "      <th>1 week % increase</th>\n",
       "      <th>WHO Region</th>\n",
       "    </tr>\n",
       "  </thead>\n",
       "  <tbody>\n",
       "    <tr>\n",
       "      <th>0</th>\n",
       "      <td>Afghanistan</td>\n",
       "      <td>36263</td>\n",
       "      <td>1269</td>\n",
       "      <td>25198</td>\n",
       "      <td>10</td>\n",
       "      <td>18</td>\n",
       "      <td>3.50</td>\n",
       "      <td>69.49</td>\n",
       "      <td>5.04</td>\n",
       "      <td>35526</td>\n",
       "      <td>737</td>\n",
       "      <td>2.07</td>\n",
       "      <td>Eastern Mediterranean</td>\n",
       "    </tr>\n",
       "    <tr>\n",
       "      <th>1</th>\n",
       "      <td>Albania</td>\n",
       "      <td>4880</td>\n",
       "      <td>144</td>\n",
       "      <td>2745</td>\n",
       "      <td>6</td>\n",
       "      <td>63</td>\n",
       "      <td>2.95</td>\n",
       "      <td>56.25</td>\n",
       "      <td>5.25</td>\n",
       "      <td>4171</td>\n",
       "      <td>709</td>\n",
       "      <td>17.00</td>\n",
       "      <td>Europe</td>\n",
       "    </tr>\n",
       "    <tr>\n",
       "      <th>2</th>\n",
       "      <td>Algeria</td>\n",
       "      <td>27973</td>\n",
       "      <td>1163</td>\n",
       "      <td>18837</td>\n",
       "      <td>8</td>\n",
       "      <td>749</td>\n",
       "      <td>4.16</td>\n",
       "      <td>67.34</td>\n",
       "      <td>6.17</td>\n",
       "      <td>23691</td>\n",
       "      <td>4282</td>\n",
       "      <td>18.07</td>\n",
       "      <td>Africa</td>\n",
       "    </tr>\n",
       "    <tr>\n",
       "      <th>3</th>\n",
       "      <td>Andorra</td>\n",
       "      <td>907</td>\n",
       "      <td>52</td>\n",
       "      <td>803</td>\n",
       "      <td>0</td>\n",
       "      <td>0</td>\n",
       "      <td>5.73</td>\n",
       "      <td>88.53</td>\n",
       "      <td>6.48</td>\n",
       "      <td>884</td>\n",
       "      <td>23</td>\n",
       "      <td>2.60</td>\n",
       "      <td>Europe</td>\n",
       "    </tr>\n",
       "    <tr>\n",
       "      <th>4</th>\n",
       "      <td>Angola</td>\n",
       "      <td>950</td>\n",
       "      <td>41</td>\n",
       "      <td>242</td>\n",
       "      <td>1</td>\n",
       "      <td>0</td>\n",
       "      <td>4.32</td>\n",
       "      <td>25.47</td>\n",
       "      <td>16.94</td>\n",
       "      <td>749</td>\n",
       "      <td>201</td>\n",
       "      <td>26.84</td>\n",
       "      <td>Africa</td>\n",
       "    </tr>\n",
       "    <tr>\n",
       "      <th>...</th>\n",
       "      <td>...</td>\n",
       "      <td>...</td>\n",
       "      <td>...</td>\n",
       "      <td>...</td>\n",
       "      <td>...</td>\n",
       "      <td>...</td>\n",
       "      <td>...</td>\n",
       "      <td>...</td>\n",
       "      <td>...</td>\n",
       "      <td>...</td>\n",
       "      <td>...</td>\n",
       "      <td>...</td>\n",
       "      <td>...</td>\n",
       "    </tr>\n",
       "    <tr>\n",
       "      <th>182</th>\n",
       "      <td>West Bank and Gaza</td>\n",
       "      <td>10621</td>\n",
       "      <td>78</td>\n",
       "      <td>3752</td>\n",
       "      <td>2</td>\n",
       "      <td>0</td>\n",
       "      <td>0.73</td>\n",
       "      <td>35.33</td>\n",
       "      <td>2.08</td>\n",
       "      <td>8916</td>\n",
       "      <td>1705</td>\n",
       "      <td>19.12</td>\n",
       "      <td>Eastern Mediterranean</td>\n",
       "    </tr>\n",
       "    <tr>\n",
       "      <th>183</th>\n",
       "      <td>Western Sahara</td>\n",
       "      <td>10</td>\n",
       "      <td>1</td>\n",
       "      <td>8</td>\n",
       "      <td>0</td>\n",
       "      <td>0</td>\n",
       "      <td>10.00</td>\n",
       "      <td>80.00</td>\n",
       "      <td>12.50</td>\n",
       "      <td>10</td>\n",
       "      <td>0</td>\n",
       "      <td>0.00</td>\n",
       "      <td>Africa</td>\n",
       "    </tr>\n",
       "    <tr>\n",
       "      <th>184</th>\n",
       "      <td>Yemen</td>\n",
       "      <td>1691</td>\n",
       "      <td>483</td>\n",
       "      <td>833</td>\n",
       "      <td>4</td>\n",
       "      <td>36</td>\n",
       "      <td>28.56</td>\n",
       "      <td>49.26</td>\n",
       "      <td>57.98</td>\n",
       "      <td>1619</td>\n",
       "      <td>72</td>\n",
       "      <td>4.45</td>\n",
       "      <td>Eastern Mediterranean</td>\n",
       "    </tr>\n",
       "    <tr>\n",
       "      <th>185</th>\n",
       "      <td>Zambia</td>\n",
       "      <td>4552</td>\n",
       "      <td>140</td>\n",
       "      <td>2815</td>\n",
       "      <td>1</td>\n",
       "      <td>465</td>\n",
       "      <td>3.08</td>\n",
       "      <td>61.84</td>\n",
       "      <td>4.97</td>\n",
       "      <td>3326</td>\n",
       "      <td>1226</td>\n",
       "      <td>36.86</td>\n",
       "      <td>Africa</td>\n",
       "    </tr>\n",
       "    <tr>\n",
       "      <th>186</th>\n",
       "      <td>Zimbabwe</td>\n",
       "      <td>2704</td>\n",
       "      <td>36</td>\n",
       "      <td>542</td>\n",
       "      <td>2</td>\n",
       "      <td>24</td>\n",
       "      <td>1.33</td>\n",
       "      <td>20.04</td>\n",
       "      <td>6.64</td>\n",
       "      <td>1713</td>\n",
       "      <td>991</td>\n",
       "      <td>57.85</td>\n",
       "      <td>Africa</td>\n",
       "    </tr>\n",
       "  </tbody>\n",
       "</table>\n",
       "<p>187 rows × 13 columns</p>\n",
       "</div>"
      ],
      "text/plain": [
       "         Country/Region  Confirmed  Deaths  Recovered  New deaths  \\\n",
       "0           Afghanistan      36263    1269      25198          10   \n",
       "1               Albania       4880     144       2745           6   \n",
       "2               Algeria      27973    1163      18837           8   \n",
       "3               Andorra        907      52        803           0   \n",
       "4                Angola        950      41        242           1   \n",
       "..                  ...        ...     ...        ...         ...   \n",
       "182  West Bank and Gaza      10621      78       3752           2   \n",
       "183      Western Sahara         10       1          8           0   \n",
       "184               Yemen       1691     483        833           4   \n",
       "185              Zambia       4552     140       2815           1   \n",
       "186            Zimbabwe       2704      36        542           2   \n",
       "\n",
       "     New recovered  Deaths / 100 Cases  Recovered / 100 Cases  \\\n",
       "0               18                3.50                  69.49   \n",
       "1               63                2.95                  56.25   \n",
       "2              749                4.16                  67.34   \n",
       "3                0                5.73                  88.53   \n",
       "4                0                4.32                  25.47   \n",
       "..             ...                 ...                    ...   \n",
       "182              0                0.73                  35.33   \n",
       "183              0               10.00                  80.00   \n",
       "184             36               28.56                  49.26   \n",
       "185            465                3.08                  61.84   \n",
       "186             24                1.33                  20.04   \n",
       "\n",
       "     Deaths / 100 Recovered  Confirmed last week  1 week change  \\\n",
       "0                      5.04                35526            737   \n",
       "1                      5.25                 4171            709   \n",
       "2                      6.17                23691           4282   \n",
       "3                      6.48                  884             23   \n",
       "4                     16.94                  749            201   \n",
       "..                      ...                  ...            ...   \n",
       "182                    2.08                 8916           1705   \n",
       "183                   12.50                   10              0   \n",
       "184                   57.98                 1619             72   \n",
       "185                    4.97                 3326           1226   \n",
       "186                    6.64                 1713            991   \n",
       "\n",
       "     1 week % increase             WHO Region  \n",
       "0                 2.07  Eastern Mediterranean  \n",
       "1                17.00                 Europe  \n",
       "2                18.07                 Africa  \n",
       "3                 2.60                 Europe  \n",
       "4                26.84                 Africa  \n",
       "..                 ...                    ...  \n",
       "182              19.12  Eastern Mediterranean  \n",
       "183               0.00                 Africa  \n",
       "184               4.45  Eastern Mediterranean  \n",
       "185              36.86                 Africa  \n",
       "186              57.85                 Africa  \n",
       "\n",
       "[187 rows x 13 columns]"
      ]
     },
     "execution_count": 376,
     "metadata": {},
     "output_type": "execute_result"
    }
   ],
   "source": [
    "df"
   ]
  },
  {
   "cell_type": "code",
   "execution_count": 378,
   "id": "e2f3adfc-e34c-488e-86d3-9c6bc2751a58",
   "metadata": {},
   "outputs": [],
   "source": [
    "df.rename(columns={'Country/Region':'Country', 'WHO Region':'WHO'},inplace=True)"
   ]
  },
  {
   "cell_type": "code",
   "execution_count": 382,
   "id": "9fc2fc49-c8a8-4464-94ea-09373d9f504e",
   "metadata": {},
   "outputs": [
    {
     "data": {
      "text/html": [
       "<div>\n",
       "<style scoped>\n",
       "    .dataframe tbody tr th:only-of-type {\n",
       "        vertical-align: middle;\n",
       "    }\n",
       "\n",
       "    .dataframe tbody tr th {\n",
       "        vertical-align: top;\n",
       "    }\n",
       "\n",
       "    .dataframe thead th {\n",
       "        text-align: right;\n",
       "    }\n",
       "</style>\n",
       "<table border=\"1\" class=\"dataframe\">\n",
       "  <thead>\n",
       "    <tr style=\"text-align: right;\">\n",
       "      <th></th>\n",
       "      <th>Country</th>\n",
       "      <th>Confirmed</th>\n",
       "      <th>Deaths</th>\n",
       "      <th>Recovered</th>\n",
       "      <th>New deaths</th>\n",
       "      <th>New recovered</th>\n",
       "      <th>Deaths / 100 Cases</th>\n",
       "      <th>Recovered / 100 Cases</th>\n",
       "      <th>Deaths / 100 Recovered</th>\n",
       "      <th>Confirmed last week</th>\n",
       "      <th>1 week change</th>\n",
       "      <th>1 week % increase</th>\n",
       "      <th>WHO</th>\n",
       "    </tr>\n",
       "  </thead>\n",
       "  <tbody>\n",
       "    <tr>\n",
       "      <th>0</th>\n",
       "      <td>Afghanistan</td>\n",
       "      <td>36263</td>\n",
       "      <td>1269</td>\n",
       "      <td>25198</td>\n",
       "      <td>10</td>\n",
       "      <td>18</td>\n",
       "      <td>3.50</td>\n",
       "      <td>69.49</td>\n",
       "      <td>5.04</td>\n",
       "      <td>35526</td>\n",
       "      <td>737</td>\n",
       "      <td>2.07</td>\n",
       "      <td>Eastern Mediterranean</td>\n",
       "    </tr>\n",
       "    <tr>\n",
       "      <th>1</th>\n",
       "      <td>Albania</td>\n",
       "      <td>4880</td>\n",
       "      <td>144</td>\n",
       "      <td>2745</td>\n",
       "      <td>6</td>\n",
       "      <td>63</td>\n",
       "      <td>2.95</td>\n",
       "      <td>56.25</td>\n",
       "      <td>5.25</td>\n",
       "      <td>4171</td>\n",
       "      <td>709</td>\n",
       "      <td>17.00</td>\n",
       "      <td>Europe</td>\n",
       "    </tr>\n",
       "    <tr>\n",
       "      <th>2</th>\n",
       "      <td>Algeria</td>\n",
       "      <td>27973</td>\n",
       "      <td>1163</td>\n",
       "      <td>18837</td>\n",
       "      <td>8</td>\n",
       "      <td>749</td>\n",
       "      <td>4.16</td>\n",
       "      <td>67.34</td>\n",
       "      <td>6.17</td>\n",
       "      <td>23691</td>\n",
       "      <td>4282</td>\n",
       "      <td>18.07</td>\n",
       "      <td>Africa</td>\n",
       "    </tr>\n",
       "    <tr>\n",
       "      <th>3</th>\n",
       "      <td>Andorra</td>\n",
       "      <td>907</td>\n",
       "      <td>52</td>\n",
       "      <td>803</td>\n",
       "      <td>0</td>\n",
       "      <td>0</td>\n",
       "      <td>5.73</td>\n",
       "      <td>88.53</td>\n",
       "      <td>6.48</td>\n",
       "      <td>884</td>\n",
       "      <td>23</td>\n",
       "      <td>2.60</td>\n",
       "      <td>Europe</td>\n",
       "    </tr>\n",
       "    <tr>\n",
       "      <th>4</th>\n",
       "      <td>Angola</td>\n",
       "      <td>950</td>\n",
       "      <td>41</td>\n",
       "      <td>242</td>\n",
       "      <td>1</td>\n",
       "      <td>0</td>\n",
       "      <td>4.32</td>\n",
       "      <td>25.47</td>\n",
       "      <td>16.94</td>\n",
       "      <td>749</td>\n",
       "      <td>201</td>\n",
       "      <td>26.84</td>\n",
       "      <td>Africa</td>\n",
       "    </tr>\n",
       "  </tbody>\n",
       "</table>\n",
       "</div>"
      ],
      "text/plain": [
       "       Country  Confirmed  Deaths  Recovered  New deaths  New recovered  \\\n",
       "0  Afghanistan      36263    1269      25198          10             18   \n",
       "1      Albania       4880     144       2745           6             63   \n",
       "2      Algeria      27973    1163      18837           8            749   \n",
       "3      Andorra        907      52        803           0              0   \n",
       "4       Angola        950      41        242           1              0   \n",
       "\n",
       "   Deaths / 100 Cases  Recovered / 100 Cases  Deaths / 100 Recovered  \\\n",
       "0                3.50                  69.49                    5.04   \n",
       "1                2.95                  56.25                    5.25   \n",
       "2                4.16                  67.34                    6.17   \n",
       "3                5.73                  88.53                    6.48   \n",
       "4                4.32                  25.47                   16.94   \n",
       "\n",
       "   Confirmed last week  1 week change  1 week % increase  \\\n",
       "0                35526            737               2.07   \n",
       "1                 4171            709              17.00   \n",
       "2                23691           4282              18.07   \n",
       "3                  884             23               2.60   \n",
       "4                  749            201              26.84   \n",
       "\n",
       "                     WHO  \n",
       "0  Eastern Mediterranean  \n",
       "1                 Europe  \n",
       "2                 Africa  \n",
       "3                 Europe  \n",
       "4                 Africa  "
      ]
     },
     "execution_count": 382,
     "metadata": {},
     "output_type": "execute_result"
    }
   ],
   "source": [
    "df.head()"
   ]
  },
  {
   "cell_type": "code",
   "execution_count": null,
   "id": "9a27f9f1-1186-46dc-b2ed-1014bab5e13e",
   "metadata": {},
   "outputs": [],
   "source": [
    "#df['Date'] = pd.to_datetime(df['Date']) # change date formate"
   ]
  },
  {
   "cell_type": "code",
   "execution_count": 384,
   "id": "44a14236-7f38-44d5-a6d9-6b3fd9c67e3a",
   "metadata": {},
   "outputs": [
    {
     "data": {
      "text/html": [
       "<div>\n",
       "<style scoped>\n",
       "    .dataframe tbody tr th:only-of-type {\n",
       "        vertical-align: middle;\n",
       "    }\n",
       "\n",
       "    .dataframe tbody tr th {\n",
       "        vertical-align: top;\n",
       "    }\n",
       "\n",
       "    .dataframe thead th {\n",
       "        text-align: right;\n",
       "    }\n",
       "</style>\n",
       "<table border=\"1\" class=\"dataframe\">\n",
       "  <thead>\n",
       "    <tr style=\"text-align: right;\">\n",
       "      <th></th>\n",
       "      <th>Confirmed</th>\n",
       "      <th>Deaths</th>\n",
       "      <th>Recovered</th>\n",
       "      <th>New deaths</th>\n",
       "      <th>New recovered</th>\n",
       "      <th>Deaths / 100 Cases</th>\n",
       "      <th>Recovered / 100 Cases</th>\n",
       "      <th>Deaths / 100 Recovered</th>\n",
       "      <th>Confirmed last week</th>\n",
       "      <th>1 week change</th>\n",
       "      <th>1 week % increase</th>\n",
       "    </tr>\n",
       "  </thead>\n",
       "  <tbody>\n",
       "    <tr>\n",
       "      <th>count</th>\n",
       "      <td>1.870000e+02</td>\n",
       "      <td>187.000000</td>\n",
       "      <td>1.870000e+02</td>\n",
       "      <td>187.000000</td>\n",
       "      <td>187.000000</td>\n",
       "      <td>187.000000</td>\n",
       "      <td>187.000000</td>\n",
       "      <td>187.00</td>\n",
       "      <td>1.870000e+02</td>\n",
       "      <td>187.000000</td>\n",
       "      <td>187.000000</td>\n",
       "    </tr>\n",
       "    <tr>\n",
       "      <th>mean</th>\n",
       "      <td>8.813094e+04</td>\n",
       "      <td>3497.518717</td>\n",
       "      <td>5.063148e+04</td>\n",
       "      <td>28.957219</td>\n",
       "      <td>933.812834</td>\n",
       "      <td>3.019519</td>\n",
       "      <td>64.820535</td>\n",
       "      <td>inf</td>\n",
       "      <td>7.868248e+04</td>\n",
       "      <td>9448.459893</td>\n",
       "      <td>13.606203</td>\n",
       "    </tr>\n",
       "    <tr>\n",
       "      <th>std</th>\n",
       "      <td>3.833187e+05</td>\n",
       "      <td>14100.002482</td>\n",
       "      <td>1.901882e+05</td>\n",
       "      <td>120.037173</td>\n",
       "      <td>4197.719635</td>\n",
       "      <td>3.454302</td>\n",
       "      <td>26.287694</td>\n",
       "      <td>NaN</td>\n",
       "      <td>3.382737e+05</td>\n",
       "      <td>47491.127684</td>\n",
       "      <td>24.509838</td>\n",
       "    </tr>\n",
       "    <tr>\n",
       "      <th>min</th>\n",
       "      <td>1.000000e+01</td>\n",
       "      <td>0.000000</td>\n",
       "      <td>0.000000e+00</td>\n",
       "      <td>0.000000</td>\n",
       "      <td>0.000000</td>\n",
       "      <td>0.000000</td>\n",
       "      <td>0.000000</td>\n",
       "      <td>0.00</td>\n",
       "      <td>1.000000e+01</td>\n",
       "      <td>-47.000000</td>\n",
       "      <td>-3.840000</td>\n",
       "    </tr>\n",
       "    <tr>\n",
       "      <th>25%</th>\n",
       "      <td>1.114000e+03</td>\n",
       "      <td>18.500000</td>\n",
       "      <td>6.265000e+02</td>\n",
       "      <td>0.000000</td>\n",
       "      <td>0.000000</td>\n",
       "      <td>0.945000</td>\n",
       "      <td>48.770000</td>\n",
       "      <td>1.45</td>\n",
       "      <td>1.051500e+03</td>\n",
       "      <td>49.000000</td>\n",
       "      <td>2.775000</td>\n",
       "    </tr>\n",
       "    <tr>\n",
       "      <th>50%</th>\n",
       "      <td>5.059000e+03</td>\n",
       "      <td>108.000000</td>\n",
       "      <td>2.815000e+03</td>\n",
       "      <td>1.000000</td>\n",
       "      <td>22.000000</td>\n",
       "      <td>2.150000</td>\n",
       "      <td>71.320000</td>\n",
       "      <td>3.62</td>\n",
       "      <td>5.020000e+03</td>\n",
       "      <td>432.000000</td>\n",
       "      <td>6.890000</td>\n",
       "    </tr>\n",
       "    <tr>\n",
       "      <th>75%</th>\n",
       "      <td>4.046050e+04</td>\n",
       "      <td>734.000000</td>\n",
       "      <td>2.260600e+04</td>\n",
       "      <td>6.000000</td>\n",
       "      <td>221.000000</td>\n",
       "      <td>3.875000</td>\n",
       "      <td>86.885000</td>\n",
       "      <td>6.44</td>\n",
       "      <td>3.708050e+04</td>\n",
       "      <td>3172.000000</td>\n",
       "      <td>16.855000</td>\n",
       "    </tr>\n",
       "    <tr>\n",
       "      <th>max</th>\n",
       "      <td>4.290259e+06</td>\n",
       "      <td>148011.000000</td>\n",
       "      <td>1.846641e+06</td>\n",
       "      <td>1076.000000</td>\n",
       "      <td>33728.000000</td>\n",
       "      <td>28.560000</td>\n",
       "      <td>100.000000</td>\n",
       "      <td>inf</td>\n",
       "      <td>3.834677e+06</td>\n",
       "      <td>455582.000000</td>\n",
       "      <td>226.320000</td>\n",
       "    </tr>\n",
       "  </tbody>\n",
       "</table>\n",
       "</div>"
      ],
      "text/plain": [
       "          Confirmed         Deaths     Recovered   New deaths  New recovered  \\\n",
       "count  1.870000e+02     187.000000  1.870000e+02   187.000000     187.000000   \n",
       "mean   8.813094e+04    3497.518717  5.063148e+04    28.957219     933.812834   \n",
       "std    3.833187e+05   14100.002482  1.901882e+05   120.037173    4197.719635   \n",
       "min    1.000000e+01       0.000000  0.000000e+00     0.000000       0.000000   \n",
       "25%    1.114000e+03      18.500000  6.265000e+02     0.000000       0.000000   \n",
       "50%    5.059000e+03     108.000000  2.815000e+03     1.000000      22.000000   \n",
       "75%    4.046050e+04     734.000000  2.260600e+04     6.000000     221.000000   \n",
       "max    4.290259e+06  148011.000000  1.846641e+06  1076.000000   33728.000000   \n",
       "\n",
       "       Deaths / 100 Cases  Recovered / 100 Cases  Deaths / 100 Recovered  \\\n",
       "count          187.000000             187.000000                  187.00   \n",
       "mean             3.019519              64.820535                     inf   \n",
       "std              3.454302              26.287694                     NaN   \n",
       "min              0.000000               0.000000                    0.00   \n",
       "25%              0.945000              48.770000                    1.45   \n",
       "50%              2.150000              71.320000                    3.62   \n",
       "75%              3.875000              86.885000                    6.44   \n",
       "max             28.560000             100.000000                     inf   \n",
       "\n",
       "       Confirmed last week  1 week change  1 week % increase  \n",
       "count         1.870000e+02     187.000000         187.000000  \n",
       "mean          7.868248e+04    9448.459893          13.606203  \n",
       "std           3.382737e+05   47491.127684          24.509838  \n",
       "min           1.000000e+01     -47.000000          -3.840000  \n",
       "25%           1.051500e+03      49.000000           2.775000  \n",
       "50%           5.020000e+03     432.000000           6.890000  \n",
       "75%           3.708050e+04    3172.000000          16.855000  \n",
       "max           3.834677e+06  455582.000000         226.320000  "
      ]
     },
     "execution_count": 384,
     "metadata": {},
     "output_type": "execute_result"
    }
   ],
   "source": [
    "df.describe()"
   ]
  },
  {
   "cell_type": "code",
   "execution_count": 386,
   "id": "4e18c3cb-3179-4e57-9bef-5d90b52a064c",
   "metadata": {},
   "outputs": [
    {
     "name": "stdout",
     "output_type": "stream",
     "text": [
      "<class 'pandas.core.frame.DataFrame'>\n",
      "RangeIndex: 187 entries, 0 to 186\n",
      "Data columns (total 13 columns):\n",
      " #   Column                  Non-Null Count  Dtype  \n",
      "---  ------                  --------------  -----  \n",
      " 0   Country                 187 non-null    object \n",
      " 1   Confirmed               187 non-null    int64  \n",
      " 2   Deaths                  187 non-null    int64  \n",
      " 3   Recovered               187 non-null    int64  \n",
      " 4   New deaths              187 non-null    int64  \n",
      " 5   New recovered           187 non-null    int64  \n",
      " 6   Deaths / 100 Cases      187 non-null    float64\n",
      " 7   Recovered / 100 Cases   187 non-null    float64\n",
      " 8   Deaths / 100 Recovered  187 non-null    float64\n",
      " 9   Confirmed last week     187 non-null    int64  \n",
      " 10  1 week change           187 non-null    int64  \n",
      " 11  1 week % increase       187 non-null    float64\n",
      " 12  WHO                     187 non-null    object \n",
      "dtypes: float64(4), int64(7), object(2)\n",
      "memory usage: 19.1+ KB\n"
     ]
    }
   ],
   "source": [
    "df.info()"
   ]
  },
  {
   "cell_type": "code",
   "execution_count": 388,
   "id": "807ee738-b5ba-4eab-b8db-80df5bc4bf45",
   "metadata": {},
   "outputs": [
    {
     "data": {
      "text/html": [
       "<div>\n",
       "<style scoped>\n",
       "    .dataframe tbody tr th:only-of-type {\n",
       "        vertical-align: middle;\n",
       "    }\n",
       "\n",
       "    .dataframe tbody tr th {\n",
       "        vertical-align: top;\n",
       "    }\n",
       "\n",
       "    .dataframe thead th {\n",
       "        text-align: right;\n",
       "    }\n",
       "</style>\n",
       "<table border=\"1\" class=\"dataframe\">\n",
       "  <thead>\n",
       "    <tr style=\"text-align: right;\">\n",
       "      <th></th>\n",
       "      <th>Country</th>\n",
       "      <th>Confirmed</th>\n",
       "      <th>Deaths</th>\n",
       "      <th>Recovered</th>\n",
       "      <th>New deaths</th>\n",
       "      <th>New recovered</th>\n",
       "      <th>Deaths / 100 Cases</th>\n",
       "      <th>Recovered / 100 Cases</th>\n",
       "      <th>Deaths / 100 Recovered</th>\n",
       "      <th>Confirmed last week</th>\n",
       "      <th>1 week change</th>\n",
       "      <th>1 week % increase</th>\n",
       "      <th>WHO</th>\n",
       "    </tr>\n",
       "  </thead>\n",
       "  <tbody>\n",
       "    <tr>\n",
       "      <th>0</th>\n",
       "      <td>Afghanistan</td>\n",
       "      <td>36263</td>\n",
       "      <td>1269</td>\n",
       "      <td>25198</td>\n",
       "      <td>10</td>\n",
       "      <td>18</td>\n",
       "      <td>3.50</td>\n",
       "      <td>69.49</td>\n",
       "      <td>5.04</td>\n",
       "      <td>35526</td>\n",
       "      <td>737</td>\n",
       "      <td>2.07</td>\n",
       "      <td>Eastern Mediterranean</td>\n",
       "    </tr>\n",
       "    <tr>\n",
       "      <th>1</th>\n",
       "      <td>Albania</td>\n",
       "      <td>4880</td>\n",
       "      <td>144</td>\n",
       "      <td>2745</td>\n",
       "      <td>6</td>\n",
       "      <td>63</td>\n",
       "      <td>2.95</td>\n",
       "      <td>56.25</td>\n",
       "      <td>5.25</td>\n",
       "      <td>4171</td>\n",
       "      <td>709</td>\n",
       "      <td>17.00</td>\n",
       "      <td>Europe</td>\n",
       "    </tr>\n",
       "    <tr>\n",
       "      <th>2</th>\n",
       "      <td>Algeria</td>\n",
       "      <td>27973</td>\n",
       "      <td>1163</td>\n",
       "      <td>18837</td>\n",
       "      <td>8</td>\n",
       "      <td>749</td>\n",
       "      <td>4.16</td>\n",
       "      <td>67.34</td>\n",
       "      <td>6.17</td>\n",
       "      <td>23691</td>\n",
       "      <td>4282</td>\n",
       "      <td>18.07</td>\n",
       "      <td>Africa</td>\n",
       "    </tr>\n",
       "    <tr>\n",
       "      <th>3</th>\n",
       "      <td>Andorra</td>\n",
       "      <td>907</td>\n",
       "      <td>52</td>\n",
       "      <td>803</td>\n",
       "      <td>0</td>\n",
       "      <td>0</td>\n",
       "      <td>5.73</td>\n",
       "      <td>88.53</td>\n",
       "      <td>6.48</td>\n",
       "      <td>884</td>\n",
       "      <td>23</td>\n",
       "      <td>2.60</td>\n",
       "      <td>Europe</td>\n",
       "    </tr>\n",
       "    <tr>\n",
       "      <th>4</th>\n",
       "      <td>Angola</td>\n",
       "      <td>950</td>\n",
       "      <td>41</td>\n",
       "      <td>242</td>\n",
       "      <td>1</td>\n",
       "      <td>0</td>\n",
       "      <td>4.32</td>\n",
       "      <td>25.47</td>\n",
       "      <td>16.94</td>\n",
       "      <td>749</td>\n",
       "      <td>201</td>\n",
       "      <td>26.84</td>\n",
       "      <td>Africa</td>\n",
       "    </tr>\n",
       "    <tr>\n",
       "      <th>...</th>\n",
       "      <td>...</td>\n",
       "      <td>...</td>\n",
       "      <td>...</td>\n",
       "      <td>...</td>\n",
       "      <td>...</td>\n",
       "      <td>...</td>\n",
       "      <td>...</td>\n",
       "      <td>...</td>\n",
       "      <td>...</td>\n",
       "      <td>...</td>\n",
       "      <td>...</td>\n",
       "      <td>...</td>\n",
       "      <td>...</td>\n",
       "    </tr>\n",
       "    <tr>\n",
       "      <th>182</th>\n",
       "      <td>West Bank and Gaza</td>\n",
       "      <td>10621</td>\n",
       "      <td>78</td>\n",
       "      <td>3752</td>\n",
       "      <td>2</td>\n",
       "      <td>0</td>\n",
       "      <td>0.73</td>\n",
       "      <td>35.33</td>\n",
       "      <td>2.08</td>\n",
       "      <td>8916</td>\n",
       "      <td>1705</td>\n",
       "      <td>19.12</td>\n",
       "      <td>Eastern Mediterranean</td>\n",
       "    </tr>\n",
       "    <tr>\n",
       "      <th>183</th>\n",
       "      <td>Western Sahara</td>\n",
       "      <td>10</td>\n",
       "      <td>1</td>\n",
       "      <td>8</td>\n",
       "      <td>0</td>\n",
       "      <td>0</td>\n",
       "      <td>10.00</td>\n",
       "      <td>80.00</td>\n",
       "      <td>12.50</td>\n",
       "      <td>10</td>\n",
       "      <td>0</td>\n",
       "      <td>0.00</td>\n",
       "      <td>Africa</td>\n",
       "    </tr>\n",
       "    <tr>\n",
       "      <th>184</th>\n",
       "      <td>Yemen</td>\n",
       "      <td>1691</td>\n",
       "      <td>483</td>\n",
       "      <td>833</td>\n",
       "      <td>4</td>\n",
       "      <td>36</td>\n",
       "      <td>28.56</td>\n",
       "      <td>49.26</td>\n",
       "      <td>57.98</td>\n",
       "      <td>1619</td>\n",
       "      <td>72</td>\n",
       "      <td>4.45</td>\n",
       "      <td>Eastern Mediterranean</td>\n",
       "    </tr>\n",
       "    <tr>\n",
       "      <th>185</th>\n",
       "      <td>Zambia</td>\n",
       "      <td>4552</td>\n",
       "      <td>140</td>\n",
       "      <td>2815</td>\n",
       "      <td>1</td>\n",
       "      <td>465</td>\n",
       "      <td>3.08</td>\n",
       "      <td>61.84</td>\n",
       "      <td>4.97</td>\n",
       "      <td>3326</td>\n",
       "      <td>1226</td>\n",
       "      <td>36.86</td>\n",
       "      <td>Africa</td>\n",
       "    </tr>\n",
       "    <tr>\n",
       "      <th>186</th>\n",
       "      <td>Zimbabwe</td>\n",
       "      <td>2704</td>\n",
       "      <td>36</td>\n",
       "      <td>542</td>\n",
       "      <td>2</td>\n",
       "      <td>24</td>\n",
       "      <td>1.33</td>\n",
       "      <td>20.04</td>\n",
       "      <td>6.64</td>\n",
       "      <td>1713</td>\n",
       "      <td>991</td>\n",
       "      <td>57.85</td>\n",
       "      <td>Africa</td>\n",
       "    </tr>\n",
       "  </tbody>\n",
       "</table>\n",
       "<p>187 rows × 13 columns</p>\n",
       "</div>"
      ],
      "text/plain": [
       "                Country  Confirmed  Deaths  Recovered  New deaths  \\\n",
       "0           Afghanistan      36263    1269      25198          10   \n",
       "1               Albania       4880     144       2745           6   \n",
       "2               Algeria      27973    1163      18837           8   \n",
       "3               Andorra        907      52        803           0   \n",
       "4                Angola        950      41        242           1   \n",
       "..                  ...        ...     ...        ...         ...   \n",
       "182  West Bank and Gaza      10621      78       3752           2   \n",
       "183      Western Sahara         10       1          8           0   \n",
       "184               Yemen       1691     483        833           4   \n",
       "185              Zambia       4552     140       2815           1   \n",
       "186            Zimbabwe       2704      36        542           2   \n",
       "\n",
       "     New recovered  Deaths / 100 Cases  Recovered / 100 Cases  \\\n",
       "0               18                3.50                  69.49   \n",
       "1               63                2.95                  56.25   \n",
       "2              749                4.16                  67.34   \n",
       "3                0                5.73                  88.53   \n",
       "4                0                4.32                  25.47   \n",
       "..             ...                 ...                    ...   \n",
       "182              0                0.73                  35.33   \n",
       "183              0               10.00                  80.00   \n",
       "184             36               28.56                  49.26   \n",
       "185            465                3.08                  61.84   \n",
       "186             24                1.33                  20.04   \n",
       "\n",
       "     Deaths / 100 Recovered  Confirmed last week  1 week change  \\\n",
       "0                      5.04                35526            737   \n",
       "1                      5.25                 4171            709   \n",
       "2                      6.17                23691           4282   \n",
       "3                      6.48                  884             23   \n",
       "4                     16.94                  749            201   \n",
       "..                      ...                  ...            ...   \n",
       "182                    2.08                 8916           1705   \n",
       "183                   12.50                   10              0   \n",
       "184                   57.98                 1619             72   \n",
       "185                    4.97                 3326           1226   \n",
       "186                    6.64                 1713            991   \n",
       "\n",
       "     1 week % increase                    WHO  \n",
       "0                 2.07  Eastern Mediterranean  \n",
       "1                17.00                 Europe  \n",
       "2                18.07                 Africa  \n",
       "3                 2.60                 Europe  \n",
       "4                26.84                 Africa  \n",
       "..                 ...                    ...  \n",
       "182              19.12  Eastern Mediterranean  \n",
       "183               0.00                 Africa  \n",
       "184               4.45  Eastern Mediterranean  \n",
       "185              36.86                 Africa  \n",
       "186              57.85                 Africa  \n",
       "\n",
       "[187 rows x 13 columns]"
      ]
     },
     "execution_count": 388,
     "metadata": {},
     "output_type": "execute_result"
    }
   ],
   "source": [
    "df.fillna('NA')"
   ]
  },
  {
   "cell_type": "code",
   "execution_count": 391,
   "id": "41a0e633-5065-4dc2-96f8-07986d89c4ab",
   "metadata": {},
   "outputs": [],
   "source": [
    "df2 = df.groupby('Country')[['Confirmed','Deaths','Recovered']].sum().reset_index()"
   ]
  },
  {
   "cell_type": "code",
   "execution_count": 395,
   "id": "75af0ca2-6bab-41b8-9a11-2326e3088c42",
   "metadata": {},
   "outputs": [
    {
     "data": {
      "text/html": [
       "<div>\n",
       "<style scoped>\n",
       "    .dataframe tbody tr th:only-of-type {\n",
       "        vertical-align: middle;\n",
       "    }\n",
       "\n",
       "    .dataframe tbody tr th {\n",
       "        vertical-align: top;\n",
       "    }\n",
       "\n",
       "    .dataframe thead th {\n",
       "        text-align: right;\n",
       "    }\n",
       "</style>\n",
       "<table border=\"1\" class=\"dataframe\">\n",
       "  <thead>\n",
       "    <tr style=\"text-align: right;\">\n",
       "      <th></th>\n",
       "      <th>Country</th>\n",
       "      <th>Confirmed</th>\n",
       "      <th>Deaths</th>\n",
       "      <th>Recovered</th>\n",
       "    </tr>\n",
       "  </thead>\n",
       "  <tbody>\n",
       "    <tr>\n",
       "      <th>0</th>\n",
       "      <td>Afghanistan</td>\n",
       "      <td>36263</td>\n",
       "      <td>1269</td>\n",
       "      <td>25198</td>\n",
       "    </tr>\n",
       "    <tr>\n",
       "      <th>1</th>\n",
       "      <td>Albania</td>\n",
       "      <td>4880</td>\n",
       "      <td>144</td>\n",
       "      <td>2745</td>\n",
       "    </tr>\n",
       "    <tr>\n",
       "      <th>2</th>\n",
       "      <td>Algeria</td>\n",
       "      <td>27973</td>\n",
       "      <td>1163</td>\n",
       "      <td>18837</td>\n",
       "    </tr>\n",
       "    <tr>\n",
       "      <th>3</th>\n",
       "      <td>Andorra</td>\n",
       "      <td>907</td>\n",
       "      <td>52</td>\n",
       "      <td>803</td>\n",
       "    </tr>\n",
       "    <tr>\n",
       "      <th>4</th>\n",
       "      <td>Angola</td>\n",
       "      <td>950</td>\n",
       "      <td>41</td>\n",
       "      <td>242</td>\n",
       "    </tr>\n",
       "    <tr>\n",
       "      <th>5</th>\n",
       "      <td>Antigua and Barbuda</td>\n",
       "      <td>86</td>\n",
       "      <td>3</td>\n",
       "      <td>65</td>\n",
       "    </tr>\n",
       "    <tr>\n",
       "      <th>6</th>\n",
       "      <td>Argentina</td>\n",
       "      <td>167416</td>\n",
       "      <td>3059</td>\n",
       "      <td>72575</td>\n",
       "    </tr>\n",
       "    <tr>\n",
       "      <th>7</th>\n",
       "      <td>Armenia</td>\n",
       "      <td>37390</td>\n",
       "      <td>711</td>\n",
       "      <td>26665</td>\n",
       "    </tr>\n",
       "    <tr>\n",
       "      <th>8</th>\n",
       "      <td>Australia</td>\n",
       "      <td>15303</td>\n",
       "      <td>167</td>\n",
       "      <td>9311</td>\n",
       "    </tr>\n",
       "    <tr>\n",
       "      <th>9</th>\n",
       "      <td>Austria</td>\n",
       "      <td>20558</td>\n",
       "      <td>713</td>\n",
       "      <td>18246</td>\n",
       "    </tr>\n",
       "  </tbody>\n",
       "</table>\n",
       "</div>"
      ],
      "text/plain": [
       "               Country  Confirmed  Deaths  Recovered\n",
       "0          Afghanistan      36263    1269      25198\n",
       "1              Albania       4880     144       2745\n",
       "2              Algeria      27973    1163      18837\n",
       "3              Andorra        907      52        803\n",
       "4               Angola        950      41        242\n",
       "5  Antigua and Barbuda         86       3         65\n",
       "6            Argentina     167416    3059      72575\n",
       "7              Armenia      37390     711      26665\n",
       "8            Australia      15303     167       9311\n",
       "9              Austria      20558     713      18246"
      ]
     },
     "execution_count": 395,
     "metadata": {},
     "output_type": "execute_result"
    }
   ],
   "source": [
    "df2.head(10)"
   ]
  },
  {
   "cell_type": "code",
   "execution_count": 397,
   "id": "10919d16-55bb-4543-abec-96b7ca2cc914",
   "metadata": {},
   "outputs": [],
   "source": [
    "df3 = df2[df2['Confirmed']>10000]"
   ]
  },
  {
   "cell_type": "code",
   "execution_count": 401,
   "id": "258f72fb-7de8-44af-b2f1-5267eb8cf027",
   "metadata": {},
   "outputs": [
    {
     "data": {
      "text/html": [
       "<div>\n",
       "<style scoped>\n",
       "    .dataframe tbody tr th:only-of-type {\n",
       "        vertical-align: middle;\n",
       "    }\n",
       "\n",
       "    .dataframe tbody tr th {\n",
       "        vertical-align: top;\n",
       "    }\n",
       "\n",
       "    .dataframe thead th {\n",
       "        text-align: right;\n",
       "    }\n",
       "</style>\n",
       "<table border=\"1\" class=\"dataframe\">\n",
       "  <thead>\n",
       "    <tr style=\"text-align: right;\">\n",
       "      <th></th>\n",
       "      <th>Country</th>\n",
       "      <th>Confirmed</th>\n",
       "      <th>Deaths</th>\n",
       "      <th>Recovered</th>\n",
       "    </tr>\n",
       "  </thead>\n",
       "  <tbody>\n",
       "    <tr>\n",
       "      <th>0</th>\n",
       "      <td>Afghanistan</td>\n",
       "      <td>36263</td>\n",
       "      <td>1269</td>\n",
       "      <td>25198</td>\n",
       "    </tr>\n",
       "    <tr>\n",
       "      <th>2</th>\n",
       "      <td>Algeria</td>\n",
       "      <td>27973</td>\n",
       "      <td>1163</td>\n",
       "      <td>18837</td>\n",
       "    </tr>\n",
       "    <tr>\n",
       "      <th>6</th>\n",
       "      <td>Argentina</td>\n",
       "      <td>167416</td>\n",
       "      <td>3059</td>\n",
       "      <td>72575</td>\n",
       "    </tr>\n",
       "    <tr>\n",
       "      <th>7</th>\n",
       "      <td>Armenia</td>\n",
       "      <td>37390</td>\n",
       "      <td>711</td>\n",
       "      <td>26665</td>\n",
       "    </tr>\n",
       "    <tr>\n",
       "      <th>8</th>\n",
       "      <td>Australia</td>\n",
       "      <td>15303</td>\n",
       "      <td>167</td>\n",
       "      <td>9311</td>\n",
       "    </tr>\n",
       "    <tr>\n",
       "      <th>9</th>\n",
       "      <td>Austria</td>\n",
       "      <td>20558</td>\n",
       "      <td>713</td>\n",
       "      <td>18246</td>\n",
       "    </tr>\n",
       "    <tr>\n",
       "      <th>10</th>\n",
       "      <td>Azerbaijan</td>\n",
       "      <td>30446</td>\n",
       "      <td>423</td>\n",
       "      <td>23242</td>\n",
       "    </tr>\n",
       "    <tr>\n",
       "      <th>12</th>\n",
       "      <td>Bahrain</td>\n",
       "      <td>39482</td>\n",
       "      <td>141</td>\n",
       "      <td>36110</td>\n",
       "    </tr>\n",
       "    <tr>\n",
       "      <th>13</th>\n",
       "      <td>Bangladesh</td>\n",
       "      <td>226225</td>\n",
       "      <td>2965</td>\n",
       "      <td>125683</td>\n",
       "    </tr>\n",
       "    <tr>\n",
       "      <th>15</th>\n",
       "      <td>Belarus</td>\n",
       "      <td>67251</td>\n",
       "      <td>538</td>\n",
       "      <td>60492</td>\n",
       "    </tr>\n",
       "  </tbody>\n",
       "</table>\n",
       "</div>"
      ],
      "text/plain": [
       "        Country  Confirmed  Deaths  Recovered\n",
       "0   Afghanistan      36263    1269      25198\n",
       "2       Algeria      27973    1163      18837\n",
       "6     Argentina     167416    3059      72575\n",
       "7       Armenia      37390     711      26665\n",
       "8     Australia      15303     167       9311\n",
       "9       Austria      20558     713      18246\n",
       "10   Azerbaijan      30446     423      23242\n",
       "12      Bahrain      39482     141      36110\n",
       "13   Bangladesh     226225    2965     125683\n",
       "15      Belarus      67251     538      60492"
      ]
     },
     "execution_count": 401,
     "metadata": {},
     "output_type": "execute_result"
    }
   ],
   "source": [
    "df3.head(10)"
   ]
  },
  {
   "attachments": {
    "ab34178e-225f-4aaf-8d8d-5529ca1b2bd9.png": {
     "image/png": "[encoded data removed]"
    }
   },
   "cell_type": "markdown",
   "id": "cf730172-fd4b-4adc-b0e9-a3714fa0b785",
   "metadata": {},
   "source": [
    "![image.png](attachment:ab34178e-225f-4aaf-8d8d-5529ca1b2bd9.png)"
   ]
  },
  {
   "cell_type": "markdown",
   "id": "da124646-2507-4ca6-9cf2-4111d6bd9af6",
   "metadata": {},
   "source": [
    "# Matplotlib"
   ]
  },
  {
   "cell_type": "code",
   "execution_count": 406,
   "id": "bc6ee672-4296-4c6d-9745-78decc0cf1f8",
   "metadata": {},
   "outputs": [],
   "source": [
    "import matplotlib.pyplot as plt"
   ]
  },
  {
   "cell_type": "code",
   "execution_count": 410,
   "id": "6f088e4b-7d57-4227-b4b2-0b758f9f3399",
   "metadata": {},
   "outputs": [],
   "source": [
    "x = np.linspace(0,10,1000)\n",
    "y = np.sin(x)"
   ]
  },
  {
   "cell_type": "code",
   "execution_count": 412,
   "id": "09257179-6b7f-438a-9645-a92fc3274c66",
   "metadata": {},
   "outputs": [
    {
     "data": {
      "text/plain": [
       "[<matplotlib.lines.Line2D at 0x1c63471c470>]"
      ]
     },
     "execution_count": 412,
     "metadata": {},
     "output_type": "execute_result"
    },
    {
     "data": {
      "image/png": "[encoded data removed]",
      "text/plain": [
       "<Figure size 640x480 with 1 Axes>"
      ]
     },
     "metadata": {},
     "output_type": "display_data"
    }
   ],
   "source": [
    "plt.plot(x,y)"
   ]
  },
  {
   "cell_type": "code",
   "execution_count": 418,
   "id": "41466755-5016-4bf5-9a20-212080d5cc97",
   "metadata": {},
   "outputs": [
    {
     "data": {
      "text/plain": [
       "<matplotlib.collections.PathCollection at 0x1c634af5b80>"
      ]
     },
     "execution_count": 418,
     "metadata": {},
     "output_type": "execute_result"
    },
    {
     "data": {
      "image/png": "[encoded data removed]",
      "text/plain": [
       "<Figure size 640x480 with 1 Axes>"
      ]
     },
     "metadata": {},
     "output_type": "display_data"
    }
   ],
   "source": [
    "plt.scatter(x[::10],y[::10],color='purple')"
   ]
  },
  {
   "cell_type": "code",
   "execution_count": 420,
   "id": "6c1ab465-ad5b-4c32-86da-ad92083dc7a4",
   "metadata": {},
   "outputs": [
    {
     "data": {
      "text/plain": [
       "[<matplotlib.lines.Line2D at 0x1c63439e360>]"
      ]
     },
     "execution_count": 420,
     "metadata": {},
     "output_type": "execute_result"
    },
    {
     "data": {
      "image/png": "[encoded data removed]",
      "text/plain": [
       "<Figure size 640x480 with 1 Axes>"
      ]
     },
     "metadata": {},
     "output_type": "display_data"
    }
   ],
   "source": [
    "plt.plot(x,y,color='g')\n",
    "plt.plot(x,np.cos(x),color='b')"
   ]
  },
  {
   "cell_type": "code",
   "execution_count": 424,
   "id": "391bec0d-073f-4ee9-b21e-a47c51b63c16",
   "metadata": {},
   "outputs": [
    {
     "data": {
      "text/plain": [
       "[<matplotlib.lines.Line2D at 0x1c639dc5400>]"
      ]
     },
     "execution_count": 424,
     "metadata": {},
     "output_type": "execute_result"
    },
    {
     "data": {
      "image/png": "[encoded data removed]",
      "text/plain": [
       "<Figure size 640x480 with 1 Axes>"
      ]
     },
     "metadata": {},
     "output_type": "display_data"
    }
   ],
   "source": [
    "plt.plot(x,x+0,'-g') # solid green\n",
    "plt.plot(x,x+1,'--c') # dashed cyan\n",
    "plt.plot(x,x+2,'-.k') # dashdot black\n",
    "plt.plot(x,x+3,':r') # dotted red"
   ]
  }
 ],
 "metadata": {
  "kernelspec": {
   "display_name": "Python [conda env:base] *",
   "language": "python",
   "name": "conda-base-py"
  },
  "language_info": {
   "codemirror_mode": {
    "name": "ipython",
    "version": 3
   },
   "file_extension": ".py",
   "mimetype": "text/x-python",
   "name": "python",
   "nbconvert_exporter": "python",
   "pygments_lexer": "ipython3",
   "version": "3.12.7"
  }
 },
 "nbformat": 4,
 "nbformat_minor": 5
}
